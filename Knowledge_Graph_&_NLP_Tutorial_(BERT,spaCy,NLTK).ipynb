{
  "cells": [
    {
      "cell_type": "markdown",
      "metadata": {
        "id": "view-in-github",
        "colab_type": "text"
      },
      "source": [
        "<a href=\"https://colab.research.google.com/github/dls03/NLP/blob/main/Knowledge_Graph_%26_NLP_Tutorial_(BERT%2CspaCy%2CNLTK).ipynb\" target=\"_parent\"><img src=\"https://colab.research.google.com/assets/colab-badge.svg\" alt=\"Open In Colab\"/></a>"
      ]
    },
    {
      "source": [
        "\n",
        "# IMPORTANT: RUN THIS CELL IN ORDER TO IMPORT YOUR KAGGLE DATA SOURCES\n",
        "# TO THE CORRECT LOCATION (/kaggle/input) IN YOUR NOTEBOOK,\n",
        "# THEN FEEL FREE TO DELETE THIS CELL.\n",
        "# NOTE: THIS NOTEBOOK ENVIRONMENT DIFFERS FROM KAGGLE'S PYTHON\n",
        "# ENVIRONMENT SO THERE MAY BE MISSING LIBRARIES USED BY YOUR\n",
        "# NOTEBOOK.\n",
        "\n",
        "import os\n",
        "import sys\n",
        "from tempfile import NamedTemporaryFile\n",
        "from urllib.request import urlopen\n",
        "from urllib.parse import unquote, urlparse\n",
        "from urllib.error import HTTPError\n",
        "from zipfile import ZipFile\n",
        "import tarfile\n",
        "import shutil\n",
        "\n",
        "CHUNK_SIZE = 40960\n",
        "DATA_SOURCE_MAPPING = 'digit-recognizer:https%3A%2F%2Fstorage.googleapis.com%2Fkaggle-competitions-data%2Fkaggle-v2%2F3004%2F861823%2Fbundle%2Farchive.zip%3FX-Goog-Algorithm%3DGOOG4-RSA-SHA256%26X-Goog-Credential%3Dgcp-kaggle-com%2540kaggle-161607.iam.gserviceaccount.com%252F20240508%252Fauto%252Fstorage%252Fgoog4_request%26X-Goog-Date%3D20240508T171712Z%26X-Goog-Expires%3D259200%26X-Goog-SignedHeaders%3Dhost%26X-Goog-Signature%3D6d64ef66ef226ea0e3cb9d8f4b07129b084b1b8a597e29568617ddfa00bfe46df01d625ce71a43a72cbd77736029ed60a250c201a70522546d5862f0da9b2e87bc424688d2e85390ad3861db43443cb8ef941f5e77975114ed6487e00e67147f6dc5a9c4bac826e7d0974d6eeb5a908a14bed65a06d57ae371de808dd2bb5c84a15cbbe401235c010b6982a615f84c134959d6398366e5c935c330854c0d36fdecb5371e74b9a67e9e55aa0b694f697cb698a2861d882973c262514d5e360a800c75ecb7b66cb182d4c59afd962c0b63ecd7c58598cbae2e0635e00e8b2b68df1247adb60b3517725fbcd21be7751b14e8c18769478d0e7937aa73e0b05574ea,titanic:https%3A%2F%2Fstorage.googleapis.com%2Fkaggle-competitions-data%2Fkaggle-v2%2F3136%2F26502%2Fbundle%2Farchive.zip%3FX-Goog-Algorithm%3DGOOG4-RSA-SHA256%26X-Goog-Credential%3Dgcp-kaggle-com%2540kaggle-161607.iam.gserviceaccount.com%252F20240508%252Fauto%252Fstorage%252Fgoog4_request%26X-Goog-Date%3D20240508T171713Z%26X-Goog-Expires%3D259200%26X-Goog-SignedHeaders%3Dhost%26X-Goog-Signature%3D7efb67797145ea30bac3e092f599302323eb16d9b456f1c41402ded89e45a2daccad23ff16a498086f63b51989394642886df0043ce32f41779be4c8d59921ef06653806a892d199c0fa6ce8b3c012ad705a3e514e145dbb9c15faf2b95ef0c1d32455cf64376df0c08c7387ff318020543a7956eb6629143a81ee961b9eca34dbe509addeaa4e0471c13457f9d121e265994cde69612aa328ab502f4e11066d6226f9170d2d953fb2916a137c186c591e8a67288dfcdbcfda715bdb85ee79c9a4cb3d66da0095d589d93ac598daaece84f1347b0eb21670ea97040e3e7cd0fdf7a6cd5d9d9a4eeb6dee3065484a28610856d78b770e92248b5b0fa5cf62e1ee,house-prices-advanced-regression-techniques:https%3A%2F%2Fstorage.googleapis.com%2Fkaggle-competitions-data%2Fkaggle-v2%2F5407%2F868283%2Fbundle%2Farchive.zip%3FX-Goog-Algorithm%3DGOOG4-RSA-SHA256%26X-Goog-Credential%3Dgcp-kaggle-com%2540kaggle-161607.iam.gserviceaccount.com%252F20240508%252Fauto%252Fstorage%252Fgoog4_request%26X-Goog-Date%3D20240508T171713Z%26X-Goog-Expires%3D259200%26X-Goog-SignedHeaders%3Dhost%26X-Goog-Signature%3D4c6de3af086bdff215d76de26ca55fe5f6a6bf63c5d67cc71a4fad41c902ef68ac15a4e0f13ca6f64f48ae761698dac91117b9f3007b3928e756b32a24a49f5be536ddcd3d3f41a7a8170cef83b47905f0723cdb36e38509fac1d908d62576a42c5afc4fdf25a853e9a43d58ae1e03d9257cc3cf27301ee979c77cf71bf95c6e5cb72cd62d3c1ad18b1d914125322d9cef54a7cf2153558cded3ad7acd2c2e810d525628f8d045b30f2fbae310f3b918e5c9de7236dc38118a074230695ac1c4a21d1a326a64b9260a8046a9902c213bd13ef2c53c8781e8ec8f71a14c36be79ee8ee58076313c6bb9ba03348cf99cd003b3fbcbd07ab967e4523b9976b0e843,nlp-getting-started:https%3A%2F%2Fstorage.googleapis.com%2Fkaggle-competitions-data%2Fkaggle-v2%2F17777%2F869809%2Fbundle%2Farchive.zip%3FX-Goog-Algorithm%3DGOOG4-RSA-SHA256%26X-Goog-Credential%3Dgcp-kaggle-com%2540kaggle-161607.iam.gserviceaccount.com%252F20240508%252Fauto%252Fstorage%252Fgoog4_request%26X-Goog-Date%3D20240508T171713Z%26X-Goog-Expires%3D259200%26X-Goog-SignedHeaders%3Dhost%26X-Goog-Signature%3D50e8de6f7c4dfbcd3c9936051060b44e392eb57fe532d7be8fc669c4eb41a2804ce9d2205af9c14127b99b035af4e618b6d8de6b14f59836155e37ace999d6b87d5e3e6e4319da35a2c5b5c713078402e7ee408d234f6c32ef128049a29fe47a8d7ffe5d51071f94771805328e3c35227cc75f5eceda72325e4c011961e7166659fbc8b0fa0e023dc32187581d890631d413dbc9531d2aab16a5f295a77d9a6d35b9fe32608c32ee6cd7484e9dd3284a92ef99c1b817a1f4a638298c39136d72562ace46291c57bd5ae62fd58aa3e6105f660997c3f3551ccfe08f4ebdfb2b706d06015e18bacc9a8756df141658bbe93752bdd3be6b889ab8e0b1191eb557f1,amazon-alexa-reviews:https%3A%2F%2Fstorage.googleapis.com%2Fkaggle-data-sets%2F39657%2F61725%2Fbundle%2Farchive.zip%3FX-Goog-Algorithm%3DGOOG4-RSA-SHA256%26X-Goog-Credential%3Dgcp-kaggle-com%2540kaggle-161607.iam.gserviceaccount.com%252F20240508%252Fauto%252Fstorage%252Fgoog4_request%26X-Goog-Date%3D20240508T171713Z%26X-Goog-Expires%3D259200%26X-Goog-SignedHeaders%3Dhost%26X-Goog-Signature%3D28cb433dace11274ce10f449686c64ad7db88f0afc502ce7be494332c1aeed29786726eee919613757189d6d4aea8adf3dc2346a7c31f9d15e1f9323c051e55c55e712ed0cc6eb87e7d03a577055e549987554514b1552a09821cdac44f28dc2c3f011a8b97252a29c4eac20d5c2fa02ef30f541c781709afabdf5789be650e8c3830b41761c53251d5241c190c43e791c39b7892c786c7437a4a5ea60cb304b827e8e89ff2d0572f164d96379c74986343a97524efd98ab2b7627380f05422c8aee4f5b452b45da2fadfd7868e5eb0ba555782880e7671a180f1ba94c89297548c913cdaef5e9c096301fc02cc49b6c3ed47ebd94793e94c896d3ae2f33b180,wikipedia-sentences:https%3A%2F%2Fstorage.googleapis.com%2Fkaggle-data-sets%2F46601%2F84740%2Fbundle%2Farchive.zip%3FX-Goog-Algorithm%3DGOOG4-RSA-SHA256%26X-Goog-Credential%3Dgcp-kaggle-com%2540kaggle-161607.iam.gserviceaccount.com%252F20240508%252Fauto%252Fstorage%252Fgoog4_request%26X-Goog-Date%3D20240508T171713Z%26X-Goog-Expires%3D259200%26X-Goog-SignedHeaders%3Dhost%26X-Goog-Signature%3D6dff0746ce63bb2678072c674a564e28ad9d2813c615b4b9d1725d7c21a0b9b8dc20ab2611cb2954098015f6723c945100a0a855bdd14d259470b681c5526067b0284f874fe2cbc057964c987b15633fcc534494190fb5134d0921ffab1f912ba0da3dd304aca121a90a9923a9c150c2194315f6da91e20edcd7eebe2019b72f43fdda69012c26da641c1f0e99bc3733b0f89fe634df1983fbed000e27800632d703a0db53871dc0a27511622337417781ee150f8af945227643e00a2d1469f6bfe3f0b40c2760f504ce47ab8143ada7ab5d937f6a11d70707ed8ebf0b708d10778e0bd572a5e34a0dafe67f379749c6de3c923c07f785f50186485e811358a0,twitter-sentiment-analysis-hatred-speech:https%3A%2F%2Fstorage.googleapis.com%2Fkaggle-data-sets%2F100982%2F239192%2Fbundle%2Farchive.zip%3FX-Goog-Algorithm%3DGOOG4-RSA-SHA256%26X-Goog-Credential%3Dgcp-kaggle-com%2540kaggle-161607.iam.gserviceaccount.com%252F20240508%252Fauto%252Fstorage%252Fgoog4_request%26X-Goog-Date%3D20240508T171713Z%26X-Goog-Expires%3D259200%26X-Goog-SignedHeaders%3Dhost%26X-Goog-Signature%3D7edae4bbfd7be0e576e2426bd7220d4866c5877bf8ae993c2db0cbe5223b893e9c62f2690e64c7f4493e626ae377a2ab07960f5c73fb10580e5efd1774761b421d9910a290ae80437351b37dc0c247e9a0ab740a093b45cf629c8c7898c2492b2bdcdf881d9cad5912973175da8ba772ea2c7ef30e08ed2c9f2e96c4fd271e874882ca082785615cbc41b4590710a9294a6ec8dfeb9454391a5ff362c4b1b6183d1593139aeaab8e2f7b79b5c452146388e61e81e887c69c89b9c5ec8ec14d3e9eec55b56ca729d00aac8e5e664c7620ffb0eb64921b3030f5d2e2c686a9446b042a50190ff1cea6f4a243c18efe51199019b242848631c9a13e47cdfea422ec,cola-the-corpus-of-linguistic-acceptability:https%3A%2F%2Fstorage.googleapis.com%2Fkaggle-data-sets%2F505302%2F934476%2Fbundle%2Farchive.zip%3FX-Goog-Algorithm%3DGOOG4-RSA-SHA256%26X-Goog-Credential%3Dgcp-kaggle-com%2540kaggle-161607.iam.gserviceaccount.com%252F20240508%252Fauto%252Fstorage%252Fgoog4_request%26X-Goog-Date%3D20240508T171713Z%26X-Goog-Expires%3D259200%26X-Goog-SignedHeaders%3Dhost%26X-Goog-Signature%3D6479f561250866d5ec92fc697575c295bddb170a065c671da5c7867b2f18dc4a83a559c5a8e6759a71d6b16af4eab4a970530dda7c41ce0e239ef2111f98894e1c44b9e1c880d9266f280cd1acd89dfd02a907a59863aa15440c6d09096ec8e334a35fb5d24598655a845229987e82c98b189868e09cce8c47d070395bfbf770192f99c47af4bb4a4b7be4607f5f2ed4169b0ad4593bdf8a038c6b0ddb34328aa8265bd9299b7eff063c596dc707df9ca3bc5c0110acdc117439277845ec176e18e991dc33cca4f039b479473a440fc0e7ee5bd2b5328dcdc741f312ab0f1e8a4aaa0646d3c5ca43886104d25df27f10468e6b14e250ebf9a184bd0015a2b477'\n",
        "\n",
        "KAGGLE_INPUT_PATH='/kaggle/input'\n",
        "KAGGLE_WORKING_PATH='/kaggle/working'\n",
        "KAGGLE_SYMLINK='kaggle'\n",
        "\n",
        "!umount /kaggle/input/ 2> /dev/null\n",
        "shutil.rmtree('/kaggle/input', ignore_errors=True)\n",
        "os.makedirs(KAGGLE_INPUT_PATH, 0o777, exist_ok=True)\n",
        "os.makedirs(KAGGLE_WORKING_PATH, 0o777, exist_ok=True)\n",
        "\n",
        "try:\n",
        "  os.symlink(KAGGLE_INPUT_PATH, os.path.join(\"..\", 'input'), target_is_directory=True)\n",
        "except FileExistsError:\n",
        "  pass\n",
        "try:\n",
        "  os.symlink(KAGGLE_WORKING_PATH, os.path.join(\"..\", 'working'), target_is_directory=True)\n",
        "except FileExistsError:\n",
        "  pass\n",
        "\n",
        "for data_source_mapping in DATA_SOURCE_MAPPING.split(','):\n",
        "    directory, download_url_encoded = data_source_mapping.split(':')\n",
        "    download_url = unquote(download_url_encoded)\n",
        "    filename = urlparse(download_url).path\n",
        "    destination_path = os.path.join(KAGGLE_INPUT_PATH, directory)\n",
        "    try:\n",
        "        with urlopen(download_url) as fileres, NamedTemporaryFile() as tfile:\n",
        "            total_length = fileres.headers['content-length']\n",
        "            print(f'Downloading {directory}, {total_length} bytes compressed')\n",
        "            dl = 0\n",
        "            data = fileres.read(CHUNK_SIZE)\n",
        "            while len(data) > 0:\n",
        "                dl += len(data)\n",
        "                tfile.write(data)\n",
        "                done = int(50 * dl / int(total_length))\n",
        "                sys.stdout.write(f\"\\r[{'=' * done}{' ' * (50-done)}] {dl} bytes downloaded\")\n",
        "                sys.stdout.flush()\n",
        "                data = fileres.read(CHUNK_SIZE)\n",
        "            if filename.endswith('.zip'):\n",
        "              with ZipFile(tfile) as zfile:\n",
        "                zfile.extractall(destination_path)\n",
        "            else:\n",
        "              with tarfile.open(tfile.name) as tarfile:\n",
        "                tarfile.extractall(destination_path)\n",
        "            print(f'\\nDownloaded and uncompressed: {directory}')\n",
        "    except HTTPError as e:\n",
        "        print(f'Failed to load (likely expired) {download_url} to path {destination_path}')\n",
        "        continue\n",
        "    except OSError as e:\n",
        "        print(f'Failed to load {download_url} to path {destination_path}')\n",
        "        continue\n",
        "\n",
        "print('Data source import complete.')\n"
      ],
      "metadata": {
        "id": "EdEGQTgAOqjL"
      },
      "cell_type": "code",
      "outputs": [],
      "execution_count": null
    },
    {
      "metadata": {
        "id": "bEtk9D9ROqjN"
      },
      "cell_type": "markdown",
      "source": [
        "![](https://media-exp1.licdn.com/dms/image/C5622AQFSXoiAZtY6YA/feedshare-shrink_800-alternative/0?e=1602115200&v=beta&t=T06bS6puUTKlX7mWQ-fpRQz-BnO2b9Hv3zgFl3s0I9s)\n",
        "Language is a method of communication with the help of which we can speak, read and write. For example, we think, we make decisions, plans and more in natural language; precisely, in words. However, the big question that confronts us in this AI era is that can we communicate in a similar manner with computers. In other words, can human beings communicate with computers in their natural language? It is a challenge for us to develop NLP applications because computers need structured data, but human speech is unstructured and often ambiguous in nature.\n",
        "\n",
        "In this sense, we can say that Natural Language Processing (NLP) is the sub-field of Computer Science especially Artificial Intelligence (AI) that is concerned about enabling computers to understand and process human language. Technically, the main task of NLP would be to program computers for analyzing and processing huge amount of natural language data.\n",
        "\n",
        "### History of NLP\n",
        "We have divided the history of NLP into four phases. The phases have distinctive concerns and styles.\n",
        "\n",
        "**First Phase (Machine Translation Phase) - Late 1940s to late 1960s**\n",
        "\n",
        "The work done in this phase focused mainly on machine translation (MT). This phase was a period of enthusiasm and optimism.\n",
        "\n",
        "Let us now see all that the first phase had in it −\n",
        "\n",
        "* The research on NLP started in early 1950s after Booth & Richens’ investigation and Weaver’s memorandum on machine translation in 1949.\n",
        "\n",
        "* 1954 was the year when a limited experiment on automatic translation from Russian to English demonstrated in the Georgetown-IBM experiment.\n",
        "\n",
        "* In the same year, the publication of the journal MT (Machine Translation) started.\n",
        "\n",
        "* The first international conference on Machine Translation (MT) was held in 1952 and second was held in 1956.\n",
        "\n",
        "* In 1961, the work presented in Teddington International Conference on Machine Translation of Languages and Applied Language analysis was the high point of this phase.\n",
        "\n",
        "**Second Phase (AI Influenced Phase) – Late 1960s to late 1970s**\n",
        "\n",
        "In this phase, the work done was majorly related to world knowledge and on its role in the construction and manipulation of meaning representations. That is why, this phase is also called AI-flavored phase.\n",
        "\n",
        "The phase had in it, the following −\n",
        "\n",
        "* In early 1961, the work began on the problems of addressing and constructing data or knowledge base. This work was influenced by AI.\n",
        "\n",
        "* In the same year, a BASEBALL question-answering system was also developed. The input to this system was restricted and the language processing involved was a simple one.\n",
        "\n",
        "* A much advanced system was described in Minsky (1968). This system, when compared to the BASEBALL question-answering system, was recognized and provided for the need of inference on the knowledge base in interpreting and responding to language input.\n",
        "\n",
        "**Third Phase (Grammatico-logical Phase) – Late 1970s to late 1980s**\n",
        "\n",
        "This phase can be described as the grammatico-logical phase. Due to the failure of practical system building in last phase, the researchers moved towards the use of logic for knowledge representation and reasoning in AI.\n",
        "\n",
        "The third phase had the following in it −\n",
        "\n",
        "* The grammatico-logical approach, towards the end of decade, helped us with powerful general-purpose sentence processors like SRI’s Core Language Engine and Discourse Representation Theory, which offered a means of tackling more extended discourse.\n",
        "\n",
        "* In this phase we got some practical resources & tools like parsers, e.g. Alvey Natural Language Tools along with more operational and commercial systems, e.g. for database query.\n",
        "\n",
        "* The work on lexicon in 1980s also pointed in the direction of grammatico-logical approach.\n",
        "\n",
        "**Fourth Phase (Lexical & Corpus Phase) – The 1990s**\n",
        "\n",
        "We can describe this as a lexical & corpus phase. The phase had a lexicalized approach to grammar that appeared in late 1980s and became an increasing influence. There was a revolution in natural language processing in this decade with the introduction of machine learning algorithms for language processing.\n",
        "\n",
        "### Study of Human Languages\n",
        "\n",
        "Language is a crucial component for human lives and also the most fundamental aspect of our behavior. We can experience it in mainly two forms - written and spoken. In the written form, it is a way to pass our knowledge from one generation to the next. In the spoken form, it is the primary medium for human beings to coordinate with each other in their day-to-day behavior. Language is studied in various academic disciplines. Each discipline comes with its own set of problems and a set of solution to address those.\n",
        "\n",
        "### Ambiguity and Uncertainty in Language\n",
        "\n",
        "Ambiguity, generally used in natural language processing, can be referred as the ability of being understood in more than one way. In simple terms, we can say that ambiguity is the capability of being understood in more than one way. Natural language is very ambiguous. NLP has the following types of ambiguities −\n",
        "\n",
        "**Lexical Ambiguity**\n",
        "\n",
        "The ambiguity of a single word is called lexical ambiguity. For example, treating the word silver as a noun, an adjective, or a verb.\n",
        "\n",
        "**Syntactic Ambiguity**\n",
        "\n",
        "This kind of ambiguity occurs when a sentence is parsed in different ways. For example, the sentence “The man saw the girl with the telescope”. It is ambiguous whether the man saw the girl carrying a telescope or he saw her through his telescope.\n",
        "\n",
        "**Semantic Ambiguity**\n",
        "\n",
        "This kind of ambiguity occurs when the meaning of the words themselves can be misinterpreted. In other words, semantic ambiguity happens when a sentence contains an ambiguous word or phrase. For example, the sentence “The car hit the pole while it was moving” is having semantic ambiguity because the interpretations can be “The car, while moving, hit the pole” and “The car hit the pole while the pole was moving”.\n",
        "\n",
        "**Anaphoric Ambiguity**\n",
        "\n",
        "This kind of ambiguity arises due to the use of anaphora entities in discourse. For example, the horse ran up the hill. It was very steep. It soon got tired. Here, the anaphoric reference of “it” in two situations cause ambiguity.\n",
        "\n",
        "**Pragmatic ambiguity**\n",
        "\n",
        "Such kind of ambiguity refers to the situation where the context of a phrase gives it multiple interpretations. In simple words, we can say that pragmatic ambiguity arises when the statement is not specific. For example, the sentence “I like you too” can have multiple interpretations like I like you (just like you like me), I like you (just like someone else dose).\n",
        "\n",
        "### NLP Phases\n",
        "Following diagram shows the phases or logical steps in natural language processing −\n",
        "![](https://www.tutorialspoint.com/natural_language_processing/images/phases_or_logical_steps.jpg)\n",
        "\n",
        "**Morphological Processing**\n",
        "\n",
        "It is the first phase of NLP. The purpose of this phase is to break chunks of language input into sets of tokens corresponding to paragraphs, sentences and words. For example, a word like “uneasy” can be broken into two sub-word tokens as “un-easy”.\n",
        "\n",
        "**Syntax Analysis**\n",
        "\n",
        "It is the second phase of NLP. The purpose of this phase is two folds: to check that a sentence is well formed or not and to break it up into a structure that shows the syntactic relationships between the different words. For example, the sentence like “The school goes to the boy” would be rejected by syntax analyzer or parser.\n",
        "\n",
        "**Semantic Analysis**\n",
        "\n",
        "It is the third phase of NLP. The purpose of this phase is to draw exact meaning, or you can say dictionary meaning from the text. The text is checked for meaningfulness. For example, semantic analyzer would reject a sentence like “Hot ice-cream”.\n",
        "\n",
        "**Pragmatic Analysis**\n",
        "\n",
        "It is the fourth phase of NLP. Pragmatic analysis simply fits the actual objects/events, which exist in a given context with object references obtained during the last phase (semantic analysis). For example, the sentence “Put the banana in the basket on the shelf” can have two semantic interpretations and pragmatic analyzer will choose between these two possibilities.\n",
        "\n",
        "\n",
        "#### In this tutorial notebook we will be covering the following NLP libraries and its python implementation\n",
        "\n",
        "## Table of Contents\n",
        "1. [**Knowlege Graph (KG)**](#TOC0)\n",
        "1. [**BERT**](#TOC1)\n",
        "1. [**spaCy**](#TOC2)\n",
        "1. [**NLTK**](#TOC3)\n",
        "    "
      ]
    },
    {
      "metadata": {
        "id": "R3RD_9xFOqjO"
      },
      "cell_type": "markdown",
      "source": [
        "![](https://miro.medium.com/max/3868/1*64AZ80NoAO8wH1RVGToSKg.png)<a id=\"TOC0\"></a> <br>\n",
        "1. [**Introduction**](#KG1)\n",
        "\n",
        "    1.1 [**What is Knowledge Graph?**](#KG11)\n",
        "    \n",
        "    1.2 [**Data Representation in Knowledge Graph?**](#KG12)\n",
        "    \n",
        "    1.3 [**Import Dependencies**](#KG13)\n",
        "    \n",
        "    1.4 [**Sentence Segmentation**](#KG14)\n",
        "    \n",
        "    1.5 [**Entities Extraction**](#KG15)\n",
        "    \n",
        "    1.6 [**Relations Extraction**](#KG16)\n",
        "    \n",
        "    1.7 [**Build Knowledge Graph**](#KG17)\n",
        "     \n",
        "1. [Conclusion](#KG2)\n",
        "\n",
        "\n",
        "Relations Extraction"
      ]
    },
    {
      "metadata": {
        "id": "q0ySJ7frOqjP"
      },
      "cell_type": "markdown",
      "source": [
        "## 1. Introduction <a id=\"KG1\"></a> <br>\n",
        "### 1.1 What is Knowledge Graph? <a id=\"KG11\"></a> <br>\n",
        "\n",
        "A knowledge graph is a way of storing data that resulted from an information extraction task. Many basic implementations of knowledge graphs make use of a concept we call triple, that is a set of three items(a subject, a predicate and an object) that we can use to store information about something.\n",
        "\n",
        "**We can define a graph as a set of nodes and edges.**\n",
        "![](https://cdn.analyticsvidhya.com/wp-content/uploads/2019/10/graph_link.png)\n",
        "Node A and Node B here are two different entities. These nodes are connected by an edge that represents the relationship between the two nodes. Now, this is the smallest knowledge graph we can build – it is also known as a **triple**.Knowledge Graph’s come in a variety of shapes and sizes.\n",
        "\n",
        "### 1.2 Data Representation in Knowledge Graph? <a id=\"KG12\"></a> <br>\n",
        "Let's take this sentence as an example:\n",
        "\n",
        "**London is the capital of England. Westminster is located in London.**\n",
        "\n",
        "After some basic processing which we will see later, we would 2 triples like this:\n",
        "\n",
        "**(London, be capital, England), (Westminster, locate, London)**\n",
        "\n",
        "So in this example we have three unique entities(London, England and Westminster) and two relations(be capital, locate). To build a knowledge graph, we only have two associated nodes in the graph with the entities and vertices with the relations and we will get something like this:\n",
        "![](https://programmerbackpack.com/content/images/2020/01/Screenshot-2020-01-26-at-17.48.39.png)\n",
        "Manually building a knowledge graph is not scalable. Nobody is going to go through thousands of documents and extract all the entities and the relations between them!\n",
        "\n",
        "That’s why machines are more suitable to perform this task as going through even hundreds or thousands of documents is child’s play for them. But then there is another challenge – machines do not understand natural language. This is where Natural Language Processing (NLP) comes into the picture.\n",
        "\n",
        "To build a knowledge graph from the text, it is important to make our machine understand natural language. This can be done by using NLP techniques such as sentence segmentation, dependency parsing, parts of speech tagging, and entity recognition.\n",
        "\n",
        "### 1.3 Import Dependencies & Load dataset<a id=\"KG13\"></a> <br>"
      ]
    },
    {
      "metadata": {
        "trusted": true,
        "id": "sZX6vnPOOqjP"
      },
      "cell_type": "code",
      "source": [
        "import re\n",
        "import pandas as pd\n",
        "import bs4\n",
        "import requests\n",
        "import spacy\n",
        "from spacy import displacy\n",
        "nlp = spacy.load('en_core_web_sm')\n",
        "\n",
        "from spacy.matcher import Matcher\n",
        "from spacy.tokens import Span\n",
        "\n",
        "import networkx as nx\n",
        "\n",
        "import matplotlib.pyplot as plt\n",
        "from tqdm import tqdm\n",
        "\n",
        "pd.set_option('display.max_colwidth', 200)\n",
        "%matplotlib inline"
      ],
      "execution_count": null,
      "outputs": []
    },
    {
      "metadata": {
        "trusted": true,
        "id": "2cfqETtJOqjP"
      },
      "cell_type": "code",
      "source": [
        "# import wikipedia sentences\n",
        "candidate_sentences = pd.read_csv(\"../input/wiki-sentences1/wiki_sentences_v2.csv\")\n",
        "candidate_sentences.shape"
      ],
      "execution_count": null,
      "outputs": []
    },
    {
      "metadata": {
        "trusted": true,
        "id": "zme3rr2COqjP"
      },
      "cell_type": "code",
      "source": [
        "candidate_sentences['sentence'].sample(5)"
      ],
      "execution_count": null,
      "outputs": []
    },
    {
      "metadata": {
        "id": "UL8myqOJOqjQ"
      },
      "cell_type": "markdown",
      "source": [
        "### 1.4 Sentence Segmentation <a id=\"KG14\"></a> <br>\n",
        "The first step in building a knowledge graph is to split the text document or article into sentences. Then, we will shortlist only those sentences in which there is exactly 1 subject and 1 object."
      ]
    },
    {
      "metadata": {
        "trusted": true,
        "id": "g_FtjRE7OqjQ"
      },
      "cell_type": "code",
      "source": [
        "\n",
        "doc = nlp(\"the drawdown process is governed by astm standard d823\")\n",
        "\n",
        "for tok in doc:\n",
        "  print(tok.text, \"...\", tok.dep_)"
      ],
      "execution_count": null,
      "outputs": []
    },
    {
      "metadata": {
        "id": "aD23nwNLOqjQ"
      },
      "cell_type": "markdown",
      "source": [
        "### 1.5 Entities Extraction <a id=\"KG15\"></a> <br>\n",
        "The extraction of a single word entity from a sentence is not a tough task. We can easily do this with the help of parts of speech (POS) tags. The nouns and the proper nouns would be our entities.\n",
        "\n",
        "However, when an entity spans across multiple words, then POS tags alone are not sufficient. We need to parse the dependency tree of the sentence.\n",
        "\n",
        "To build a knowledge graph, the most important things are the nodes and the edges between them.\n",
        "\n",
        "These nodes are going to be the entities that are present in the Wikipedia sentences. Edges are the relationships connecting these entities to one another. We will extract these elements in an unsupervised manner, i.e., we will use the grammar of the sentences.\n",
        "\n",
        "The main idea is to go through a sentence and extract the subject and the object as and when they are encountered. However, there are a few challenges ⁠— an entity can span across multiple words, eg., “red wine”, and the dependency parsers tag only the individual words as subjects or objects.\n",
        "\n",
        "So, I have created a function below to extract the subject and the object (entities) from a sentence while also overcoming the challenges mentioned above. I have partitioned the code into multiple chunks for your convenience:"
      ]
    },
    {
      "metadata": {
        "trusted": true,
        "id": "LH8811IUOqjQ"
      },
      "cell_type": "code",
      "source": [
        "def get_entities(sent):\n",
        "  ## chunk 1\n",
        "  ent1 = \"\"\n",
        "  ent2 = \"\"\n",
        "\n",
        "  prv_tok_dep = \"\"    # dependency tag of previous token in the sentence\n",
        "  prv_tok_text = \"\"   # previous token in the sentence\n",
        "\n",
        "  prefix = \"\"\n",
        "  modifier = \"\"\n",
        "\n",
        "  #############################################################\n",
        "\n",
        "  for tok in nlp(sent):\n",
        "    ## chunk 2\n",
        "    # if token is a punctuation mark then move on to the next token\n",
        "    if tok.dep_ != \"punct\":\n",
        "      # check: token is a compound word or not\n",
        "      if tok.dep_ == \"compound\":\n",
        "        prefix = tok.text\n",
        "        # if the previous word was also a 'compound' then add the current word to it\n",
        "        if prv_tok_dep == \"compound\":\n",
        "          prefix = prv_tok_text + \" \"+ tok.text\n",
        "\n",
        "      # check: token is a modifier or not\n",
        "      if tok.dep_.endswith(\"mod\") == True:\n",
        "        modifier = tok.text\n",
        "        # if the previous word was also a 'compound' then add the current word to it\n",
        "        if prv_tok_dep == \"compound\":\n",
        "          modifier = prv_tok_text + \" \"+ tok.text\n",
        "\n",
        "      ## chunk 3\n",
        "      if tok.dep_.find(\"subj\") == True:\n",
        "        ent1 = modifier +\" \"+ prefix + \" \"+ tok.text\n",
        "        prefix = \"\"\n",
        "        modifier = \"\"\n",
        "        prv_tok_dep = \"\"\n",
        "        prv_tok_text = \"\"\n",
        "\n",
        "      ## chunk 4\n",
        "      if tok.dep_.find(\"obj\") == True:\n",
        "        ent2 = modifier +\" \"+ prefix +\" \"+ tok.text\n",
        "\n",
        "      ## chunk 5\n",
        "      # update variables\n",
        "      prv_tok_dep = tok.dep_\n",
        "      prv_tok_text = tok.text\n",
        "  #############################################################\n",
        "\n",
        "  return [ent1.strip(), ent2.strip()]"
      ],
      "execution_count": null,
      "outputs": []
    },
    {
      "metadata": {
        "id": "3GKzZlCiOqjR"
      },
      "cell_type": "markdown",
      "source": [
        "**Chunk 1**\n",
        "\n",
        "Defined a few empty variables in this chunk. prv_tok_dep and prv_tok_text will hold the dependency tag of the previous word in the sentence and that previous word itself, respectively. prefix and modifier will hold the text that is associated with the subject or the object.\n",
        "\n",
        "**Chunk 2**\n",
        "\n",
        "Next, we will loop through the tokens in the sentence. We will first check if the token is a punctuation mark or not. If yes, then we will ignore it and move on to the next token. If the token is a part of a compound word (dependency tag = “compound”), we will keep it in the prefix variable. A compound word is a combination of multiple words linked to form a word with a new meaning (example – “Football Stadium”, “animal lover”).\n",
        "\n",
        "As and when we come across a subject or an object in the sentence, we will add this prefix to it. We will do the same thing with the modifier words, such as “nice shirt”, “big house”, etc.\n",
        "\n",
        "**Chunk 3**\n",
        "\n",
        "Here, if the token is the subject, then it will be captured as the first entity in the ent1 variable. Variables such as prefix, modifier, prv_tok_dep, and prv_tok_text will be reset.\n",
        "\n",
        "**Chunk 4**\n",
        "\n",
        "Here, if the token is the object, then it will be captured as the second entity in the ent2 variable. Variables such as prefix, modifier, prv_tok_dep, and prv_tok_text will again be reset.\n",
        "\n",
        "**Chunk 5**\n",
        "\n",
        "Once we have captured the subject and the object in the sentence, we will update the previous token and its dependency tag.\n",
        "\n",
        "Let’s test this function on a sentence:"
      ]
    },
    {
      "metadata": {
        "trusted": true,
        "id": "Pff4ymnDOqjR"
      },
      "cell_type": "code",
      "source": [
        "get_entities(\"the film had 200 patents\")"
      ],
      "execution_count": null,
      "outputs": []
    },
    {
      "metadata": {
        "id": "YWgVZ7znOqjR"
      },
      "cell_type": "markdown",
      "source": [
        "Great, it seems to be working as planned. In the above sentence, ‘film’ is the subject and ‘200 patents’ is the object.\n",
        "\n",
        "Now we can use this function to extract these entity pairs for all the sentences in our data:"
      ]
    },
    {
      "metadata": {
        "trusted": true,
        "id": "SDgmDcivOqjR"
      },
      "cell_type": "code",
      "source": [
        "entity_pairs = []\n",
        "\n",
        "for i in tqdm(candidate_sentences[\"sentence\"]):\n",
        "  entity_pairs.append(get_entities(i))"
      ],
      "execution_count": null,
      "outputs": []
    },
    {
      "metadata": {
        "id": "qcDtVS9sOqjR"
      },
      "cell_type": "markdown",
      "source": [
        "The list entity_pairs contains all the subject-object pairs from the Wikipedia sentences. Let’s have a look at a few of them:"
      ]
    },
    {
      "metadata": {
        "trusted": true,
        "id": "yk128mllOqjR"
      },
      "cell_type": "code",
      "source": [
        "entity_pairs[10:20]"
      ],
      "execution_count": null,
      "outputs": []
    },
    {
      "metadata": {
        "id": "_x_otfR8OqjR"
      },
      "cell_type": "markdown",
      "source": [
        "As you can see, there are a few pronouns in these entity pairs such as ‘we’, ‘it’, ‘she’, etc. We’d like to have proper nouns or nouns instead. Perhaps we can further improve the get_entities( ) function to filter out pronouns\n",
        "\n",
        "### 1.6 Relations Extraction <a id=\"KG16\"></a> <br>\n",
        "Entity extraction is half the job done. To build a knowledge graph, we need edges to connect the nodes (entities) to one another. These edges are the relations between a pair of nodes.\n",
        "\n",
        "Our hypothesis is that the predicate is actually the main verb in a sentence.\n",
        "\n",
        "For example, in the sentence – “Sixty Hollywood musicals were released in 1929”, the verb is “released in” and this is what we are going to use as the predicate for the triple generated from this sentence.\n",
        "\n",
        "The function below is capable of capturing such predicates from the sentences. Here, I have used spaCy’s rule-based matching:"
      ]
    },
    {
      "metadata": {
        "trusted": true,
        "id": "E1OO2-WoOqjR"
      },
      "cell_type": "code",
      "source": [
        "def get_relation(sent):\n",
        "\n",
        "  doc = nlp(sent)\n",
        "\n",
        "  # Matcher class object\n",
        "  matcher = Matcher(nlp.vocab)\n",
        "\n",
        "  #define the pattern\n",
        "  pattern = [{'DEP':'ROOT'},\n",
        "            {'DEP':'prep','OP':\"?\"},\n",
        "            {'DEP':'agent','OP':\"?\"},\n",
        "            {'POS':'ADJ','OP':\"?\"}]\n",
        "\n",
        "  matcher.add(\"matching_1\", None, pattern)\n",
        "\n",
        "  matches = matcher(doc)\n",
        "  k = len(matches) - 1\n",
        "\n",
        "  span = doc[matches[k][1]:matches[k][2]]\n",
        "\n",
        "  return(span.text)"
      ],
      "execution_count": null,
      "outputs": []
    },
    {
      "metadata": {
        "id": "leLPDy1HOqjS"
      },
      "cell_type": "markdown",
      "source": [
        "The pattern defined in the function tries to find the ROOT word or the main verb in the sentence. Once the ROOT is identified, then the pattern checks whether it is followed by a preposition (‘prep’) or an agent word. If yes, then it is added to the ROOT word.\n",
        "Let me show you a glimpse of this function:"
      ]
    },
    {
      "metadata": {
        "trusted": true,
        "id": "EO--jZ8nOqjS"
      },
      "cell_type": "code",
      "source": [
        "get_relation(\"John completed the task\")"
      ],
      "execution_count": null,
      "outputs": []
    },
    {
      "metadata": {
        "trusted": true,
        "id": "cSEGJNHDOqjS"
      },
      "cell_type": "code",
      "source": [
        "relations = [get_relation(i) for i in tqdm(candidate_sentences['sentence'])]"
      ],
      "execution_count": null,
      "outputs": []
    },
    {
      "metadata": {
        "id": "1N1nJoD_OqjS"
      },
      "cell_type": "markdown",
      "source": [
        "Let’s take a look at the most frequent relations or predicates that we have just extracted:"
      ]
    },
    {
      "metadata": {
        "trusted": true,
        "id": "MWi5QG8yOqjS"
      },
      "cell_type": "code",
      "source": [
        "pd.Series(relations).value_counts()[:50]"
      ],
      "execution_count": null,
      "outputs": []
    },
    {
      "metadata": {
        "id": "FW0Kie6zOqjS"
      },
      "cell_type": "markdown",
      "source": [
        "### 1.7 Build Knowledge Graph <a id=\"KG17\"></a> <br>\n",
        "\n",
        "We will finally create a knowledge graph from the extracted entities (subject-object pairs) and the predicates (relation between entities).\n",
        "\n",
        "Let’s create a dataframe of entities and predicates:"
      ]
    },
    {
      "metadata": {
        "trusted": true,
        "id": "GSIuOKaxOqjS"
      },
      "cell_type": "code",
      "source": [
        "# extract subject\n",
        "source = [i[0] for i in entity_pairs]\n",
        "\n",
        "# extract object\n",
        "target = [i[1] for i in entity_pairs]\n",
        "\n",
        "kg_df = pd.DataFrame({'source':source, 'target':target, 'edge':relations})"
      ],
      "execution_count": null,
      "outputs": []
    },
    {
      "metadata": {
        "id": "pc0c5J79OqjS"
      },
      "cell_type": "markdown",
      "source": [
        "Next, we will use the networkx library to create a network from this dataframe. The nodes will represent the entities and the edges or connections between the nodes will represent the relations between the nodes.\n",
        "\n",
        "It is going to be a directed graph. In other words, the relation between any connected node pair is not two-way, it is only from one node to another."
      ]
    },
    {
      "metadata": {
        "trusted": true,
        "id": "TGtzekEZOqjS"
      },
      "cell_type": "code",
      "source": [
        "# create a directed-graph from a dataframe\n",
        "G=nx.from_pandas_edgelist(kg_df, \"source\", \"target\",\n",
        "                          edge_attr=True, create_using=nx.MultiDiGraph())"
      ],
      "execution_count": null,
      "outputs": []
    },
    {
      "metadata": {
        "id": "hvHUo2tpOqjS"
      },
      "cell_type": "markdown",
      "source": [
        "Let’s plot the network:"
      ]
    },
    {
      "metadata": {
        "trusted": true,
        "id": "wbuxzXC1OqjS"
      },
      "cell_type": "code",
      "source": [
        "plt.figure(figsize=(12,12))\n",
        "\n",
        "pos = nx.spring_layout(G)\n",
        "nx.draw(G, with_labels=True, node_color='skyblue', edge_cmap=plt.cm.Blues, pos = pos)\n",
        "plt.show()"
      ],
      "execution_count": null,
      "outputs": []
    },
    {
      "metadata": {
        "id": "daOCFoYmOqjS"
      },
      "cell_type": "markdown",
      "source": [
        "Well, this is not exactly what we were hoping for (still looks quite a sight though!).\n",
        "\n",
        "It turns out that we have created a graph with all the relations that we had. It becomes really hard to visualize a graph with these many relations or predicates.\n",
        "\n",
        "So, it’s advisable to use only a few important relations to visualize a graph. I will take one relation at a time. Let’s start with the relation “composed by”:"
      ]
    },
    {
      "metadata": {
        "trusted": true,
        "id": "tgFWK983OqjT"
      },
      "cell_type": "code",
      "source": [
        "G=nx.from_pandas_edgelist(kg_df[kg_df['edge']==\"composed by\"], \"source\", \"target\",\n",
        "                          edge_attr=True, create_using=nx.MultiDiGraph())\n",
        "\n",
        "plt.figure(figsize=(12,12))\n",
        "pos = nx.spring_layout(G, k = 0.5) # k regulates the distance between nodes\n",
        "nx.draw(G, with_labels=True, node_color='skyblue', node_size=1500, edge_cmap=plt.cm.Blues, pos = pos)\n",
        "plt.show()"
      ],
      "execution_count": null,
      "outputs": []
    },
    {
      "metadata": {
        "id": "dKMCe-Q5OqjT"
      },
      "cell_type": "markdown",
      "source": [
        "That’s a much cleaner graph. Here the arrows point towards the composers. For instance, A.R. Rahman, who is a renowned music composer, has entities like “soundtrack score”, “film score”, and “music” connected to him in the graph above.\n",
        "\n",
        "Let’s check out a few more relations.\n",
        "\n",
        "Now I would like to visualize the graph for the “written by” relation:"
      ]
    },
    {
      "metadata": {
        "trusted": true,
        "id": "IpAmH2MfOqjT"
      },
      "cell_type": "code",
      "source": [
        "G=nx.from_pandas_edgelist(kg_df[kg_df['edge']==\"written by\"], \"source\", \"target\",\n",
        "                          edge_attr=True, create_using=nx.MultiDiGraph())\n",
        "\n",
        "plt.figure(figsize=(12,12))\n",
        "pos = nx.spring_layout(G, k = 0.5)\n",
        "nx.draw(G, with_labels=True, node_color='skyblue', node_size=1500, edge_cmap=plt.cm.Blues, pos = pos)\n",
        "plt.show()"
      ],
      "execution_count": null,
      "outputs": []
    },
    {
      "metadata": {
        "id": "lA6RfL8KOqjT"
      },
      "cell_type": "markdown",
      "source": [
        "This knowledge graph is giving us some extraordinary information. Guys like Javed Akhtar, Krishna Chaitanya, and Jaideep Sahni are all famous lyricists and this graph beautifully captures this relationship.\n",
        "\n",
        "Let’s see the knowledge graph of another important predicate, i.e., the “released in”:"
      ]
    },
    {
      "metadata": {
        "trusted": true,
        "id": "WiRrf-DqOqjT"
      },
      "cell_type": "code",
      "source": [
        "G=nx.from_pandas_edgelist(kg_df[kg_df['edge']==\"released in\"], \"source\", \"target\",\n",
        "                          edge_attr=True, create_using=nx.MultiDiGraph())\n",
        "\n",
        "plt.figure(figsize=(12,12))\n",
        "pos = nx.spring_layout(G, k = 0.5)\n",
        "nx.draw(G, with_labels=True, node_color='skyblue', node_size=1500, edge_cmap=plt.cm.Blues, pos = pos)\n",
        "plt.show()"
      ],
      "execution_count": null,
      "outputs": []
    },
    {
      "metadata": {
        "id": "jL3DlrXeOqjT"
      },
      "cell_type": "markdown",
      "source": [
        "## 2. Conclusion <a id=\"KG2\"></a> <br>\n",
        "### I hope you have a good understanding on how to use Knowledge Graph .\n",
        "\n",
        "## Please do leave your comments /suggestions and if you like this notebook please do <font color='red'>UPVOTE"
      ]
    },
    {
      "metadata": {
        "id": "Nn7T2myUOqjT"
      },
      "cell_type": "markdown",
      "source": [
        "![](https://torpedogroup.com/app/uploads/2019/11/BERT-Logo-300x340-2.jpg)<a id=\"TOC1\"></a> <br>\n",
        "\n",
        "# BERT: Bidirectional Encoder Representations from Transformers\n",
        "\n",
        "## Table of Contents\n",
        "1. [**Introduction**](#A1)\n",
        "\n",
        "    1.1 [**What is BERT?**](#A11)\n",
        "    \n",
        "    1.2 [**Architecture**](#A12)\n",
        "    \n",
        "    1.3 [**Why we needed BERT?**](#A13)\n",
        "    \n",
        "    1.4 [**Core Idea of BERT**](#A14)\n",
        "    \n",
        "    1.5 [**How does it work**](#A15)\n",
        "    \n",
        "    1.6 [**When can we use it?**](#A16)\n",
        "    \n",
        "    1.7 [**How to fine-tune it?**](#A17)\n",
        "     \n",
        "1. [**Use Case - Text Classification using BERT**](#A2)\n",
        "    \n",
        "1. [References](#A3)  \n",
        "\n",
        "1. [Conclusion](#A4)"
      ]
    },
    {
      "metadata": {
        "id": "JeO7hiAmOqjT"
      },
      "cell_type": "markdown",
      "source": [
        "## 1. Introduction <a id=\"A1\"></a> <br>\n",
        "At the end of 2018 researchers at Google AI Language open-sourced a new technique for Natural Language Processing (NLP) called BERT (Bidirectional Encoder Representations from Transformers) —  a major breakthrough which took the Deep Learning community by storm because of its incredible performance."
      ]
    },
    {
      "metadata": {
        "id": "UpEFhSWmOqjb"
      },
      "cell_type": "markdown",
      "source": [
        "### 1.1 What is BERT? <a id=\"A11\"></a> <br>\n",
        "\n",
        "**BERT** stands for **B**idirectional **E**ncoder **R**epresentations from **T**ransformers. Let us understand this in detail each word .\n",
        "\n",
        "* **Bidirectional** - to understand the text you’re looking you’ll have to look back (at the previous words) and forward (at the next words)\n",
        "* **Transformers** - [The Attention Is All You Need](https://arxiv.org/pdf/1706.03762.pdf) paper presented the Transformer model. The Transformer reads entire sequences of tokens at once. In a sense, the model is non-directional, while LSTMs read sequentially (left-to-right or right-to-left). The attention mechanism allows for learning contextual relations between words (e.g. his in a sentence refers to Jim).\n",
        "* **(Pre-trained) contextualized word embeddings** - [The ELMO paper](https://arxiv.org/pdf/1802.05365v2.pdf) introduced a way to encode words based on their meaning/context. Nails has multiple meanings - fingernails and metal nails.\n",
        "\n",
        "BERT was trained by masking 15% of the tokens with the goal to guess them. An additional objective was to predict the next sentence."
      ]
    },
    {
      "metadata": {
        "id": "xRAwznpsOqjb"
      },
      "cell_type": "markdown",
      "source": [
        "### 1.2 Architecture <a id=\"A12\"></a> <br>\n",
        "The original BERT model was developed and trained by Google using TensorFlow. BERT is released in two sizes **BERTBASE** and **BERTLARGE**.\n",
        "\n",
        "The BASE model is used to measure the performance of the architecture comparable to another architecture and the LARGE model produces state-of-the-art results that were reported in the research paper.\n",
        "\n",
        "One of the main reasons for the good performance of BERT on different NLP tasks was the use of **Semi-Supervised Learning**. This means the model is trained for a specific task that enables it to understand the patterns of the language. After training the model (BERT) has language processing capabilities that can be used to empower other models that we build and train using supervised learning.\n",
        "\n",
        "**BERT** is basically an Encoder stack of transformer architecture. A transformer architecture is an encoder-decoder network that uses self-attention on the encoder side and attention on the decoder side.\n",
        "\n",
        "**BERTBASE** has 12 layers in the Encoder stack while **BERTLARGE** has 24 layers in the Encoder stack. These are more than the Transformer architecture described in the original paper (6 encoder layers).\n",
        "\n",
        "**BERT** architectures (BASE and LARGE) also have larger feedforward-networks (768 and 1024 hidden units respectively), and more attention heads (12 and 16 respectively) than the Transformer architecture suggested in the original paper. It contains 512 hidden units and 8 attention heads.\n",
        "\n",
        "**BERTBASE** contains 110M parameters while BERTLARGE has 340M parameters.\n",
        "\n",
        "So in summary\n",
        "* **BERT-Base**: 12 layer Encoder / Decoder, d = 768, 110M parameters\n",
        "* **BERT-Large**: 24 layer Encoder / Decoder, d = 1024, 340M parameters\n",
        "\n",
        "where d is the dimensionality of the final hidden vector output by BERT. Both of these have a Cased and an Uncased version (the Uncased version converts all words to lowercase).\n",
        "\n",
        "![](https://media.geeksforgeeks.org/wp-content/uploads/20200407004114/bert-base-and-large.jpg)\n",
        "\n",
        "This model takes CLS token as input first, then it is followed by a sequence of words as input. Here CLS is a classification token. It then passes the input to the above layers. Each layer applies self-attention, passes the result through a feedforward network after then it hands off to the next encoder.\n",
        "\n",
        "The model outputs a vector of hidden size (768 for BERT BASE). If we want to output a classifier from this model we can take the output corresponding to CLS token.\n",
        "![](https://media.geeksforgeeks.org/wp-content/uploads/20200407005130/BERT-embedding-output.jpg)"
      ]
    },
    {
      "metadata": {
        "id": "dFf8EtXSOqjb"
      },
      "cell_type": "markdown",
      "source": [
        "### 1.3 Why we needed BERT? <a id=\"A13\"></a> <br>\n",
        "\n",
        "One of the biggest challenges in NLP is the **lack of enough training data**. Overall there is enormous amount of text data available, but if we want to create task-specific datasets, we need to split that pile into the very many diverse fields. And when we do this, we end up with only a few thousand or a few hundred thousand human-labeled training examples. Unfortunately, in order to perform well, deep learning based NLP models require much larger amounts of data —  they see major improvements when trained on millions, or billions, of annotated training examples.\n",
        "\n",
        "To help bridge this gap in data, researchers have developed various techniques for training general purpose language representation models using the enormous piles of unannotated text on the web (this is known as pre-training). These general purpose pre-trained models can then be fine-tuned on smaller task-specific datasets, e.g., when working with problems like question answering and sentiment analysis. This approach results in great accuracy improvements compared to training on the smaller task-specific datasets from scratch. BERT is a recent addition to these techniques for NLP pre-training; it caused a stir in the deep learning community because it presented state-of-the-art results in a wide variety of NLP tasks, like question answering.\n",
        "\n",
        "The best part about BERT is that it can be download and used for free —  we can either use the  BERT models to extract high quality language features from our text data, or we can fine-tune these models on a specific task, like sentiment analysis and question answering, with our own data to produce state-of-the-art predictions.\n",
        "\n",
        "In **summary** the following are the main benefits of using BERT:\n",
        "\n",
        "**Easy Training**\n",
        "\n",
        "First, the pre-trained BERT model weights already encode a lot of information about our language. As a result, it takes much less time to train our fine-tuned model - it is as if we have already trained the bottom layers of our network extensively and only need to gently tune them while using their output as features for our classification task. In fact, the authors recommend only 2-4 epochs of training for fine-tuning BERT on a specific NLP task (compared to the hundreds of GPU hours needed to train the original BERT model or a LSTM from scratch!).\n",
        "\n",
        "**Less Data**\n",
        "\n",
        "In addition and perhaps just as important, because of the pre-trained weights this method allows us to fine-tune our task on a much smaller dataset than would be required in a model that is built from scratch. A major drawback of NLP models built from scratch is that we often need a prohibitively large dataset in order to train our network to reasonable accuracy, meaning a lot of time and energy had to be put into dataset creation. By fine-tuning BERT, we are now able to get away with training a model to good performance on a much smaller amount of training data.\n",
        "\n",
        "**Good Results**\n",
        "\n",
        "Second, this simple fine-tuning procedure (typically adding one fully-connected layer on top of BERT and training for a few epochs) was shown to achieve state of the art results with minimal task-specific adjustments for a wide variety of tasks: classification, language inference, semantic similarity, question answering, etc. Rather than implementing custom and sometimes-obscure architetures shown to work well on a specific task, simply fine-tuning BERT is shown to be a better (or at least equal) alternative.\n",
        "\n",
        "**A Shift in NLP**\n",
        "\n",
        "This shift to transfer learning parallels the same shift that took place in computer vision a few years ago. Creating a good deep learning network for computer vision tasks can take millions of parameters and be very expensive to train. Researchers discovered that deep networks learn hierarchical feature representations (simple features like edges at the lowest layers with gradually more complex features at higher layers). Rather than training a new network from scratch each time, the lower layers of a trained network with generalized image features could be copied and transfered for use in another network with a different task. It soon became common practice to download a pre-trained deep network and quickly retrain it for the new task or add additional layers on top - vastly preferable to the expensive process of training a network from scratch. For many, the introduction of deep pre-trained language models in 2018 (ELMO, BERT, ULMFIT, Open-GPT, etc.) signals the same shift to transfer learning in NLP that computer vision saw.\n"
      ]
    },
    {
      "metadata": {
        "id": "E3-5-RrJOqjc"
      },
      "cell_type": "markdown",
      "source": [
        "### 1.4 Core Idea of BERT <a id=\"A14\"></a> <br>\n",
        "\n",
        "What is language modeling really about? Which problem are language models trying to solve? Basically, their task is to “fill in the blank” based on context. For example, given\n",
        "\n",
        "“The woman went to the store and bought a _____ of shoes.”\n",
        "\n",
        "a language model might complete this sentence by saying that the word “cart” would fill the blank 20% of the time and the word “pair” 80% of the time.\n",
        "\n",
        "In the pre-BERT world, a language model would have looked at this text sequence during training from either left-to-right or combined left-to-right and right-to-left. This one-directional approach works well for generating sentences — we can predict the next word, append that to the sequence, then predict the next to next word until we have a complete sentence.\n",
        "\n",
        "Now enters BERT, a language model which is bidirectionally trained (this is also its key technical innovation). This means we can now have a deeper sense of language context and flow compared to the single-direction language models.\n",
        "\n",
        "Instead of predicting the next word in a sequence, BERT makes use of a novel technique called **Masked LM** (MLM): it randomly masks words in the sentence and then it tries to predict them. Masking means that the model looks in both directions and it uses the full context of the sentence, both left and right surroundings, in order to predict the masked word. Unlike the previous language models, it takes both the previous and next tokens into account at the same time. The existing combined left-to-right and right-to-left LSTM based models were missing this “same-time part”. (It might be more accurate to say that BERT is non-directional though.)\n",
        "\n",
        "But why is this non-directional approach so powerful?\n",
        "\n",
        "Pre-trained language representations can either be context-free or context-based. Context-based representations can then be unidirectional or bidirectional. Context-free models like word2vec generate a single word embedding representation (a vector of numbers) for each word in the vocabulary.\n",
        "\n",
        "For example, the word “bank” would have the same context-free representation in “bank account” and “bank of the river.” On the other hand, context-based models generate a representation of each word that is based on the other words in the sentence. For example, in the sentence “I accessed the bank account,” a unidirectional contextual model would represent “bank” based on “I accessed the” but not “account.” However, BERT represents “bank” using both its previous and next context — “I accessed the … account” — starting from the very bottom of a deep neural network, making it deeply bidirectional.\n",
        "![](https://i0.wp.com/mlexplained.com/wp-content/uploads/2019/01/Screen-Shot-2019-01-03-at-11.22.11-AM.png?fit=750%2C192)\n",
        "\n",
        "It’s evident from the above image: BERT is bi-directional, GPT is unidirectional (information flows only from left-to-right), and ELMO is shallowly bidirectional.\n",
        "\n",
        "BERT is based on the Transformer model architecture, instead of LSTMs. We will very soon see the model details of BERT, but in general:\n",
        "\n",
        "A Transformer works by performing a small, constant number of steps. In each step, it applies an attention mechanism to understand relationships between all words in a sentence, regardless of their respective position. For example, given the sentence,  “I arrived at the bank after crossing the river”, to determine that the word “bank” refers to the shore of a river and not a financial institution, the Transformer can learn to immediately pay attention to the word “river” and make this decision in just one step."
      ]
    },
    {
      "metadata": {
        "id": "FeD39eN8Oqjc"
      },
      "cell_type": "markdown",
      "source": [
        "### 1.5 How does it work? <a id=\"A15\"></a> <br>\n",
        "BERT relies on a Transformer (the attention mechanism that learns contextual relationships between words in a text). A basic Transformer consists of an encoder to read the text input and a decoder to produce a prediction for the task. Since BERT’s goal is to generate a language representation model, it only needs the encoder part. The input to the encoder for BERT is a sequence of tokens, which are first converted into vectors and then processed in the neural network. But before processing can start, BERT needs the input to be massaged and decorated with some extra metadata:\n",
        "\n",
        "* **Token embeddings**: A  token is added to the input word tokens at the beginning of the first sentence and a  token is inserted at the end of each sentence.\n",
        "* **Segment embeddings**: A marker indicating Sentence A or Sentence B is added to each token. This allows the encoder to distinguish between sentences.\n",
        "* **Positional embeddings**: A positional embedding is added to each token to indicate its position in the sentence.\n",
        "![](https://towardsml.files.wordpress.com/2019/09/input.png?w=810)\n",
        "The input representation for BERT: The input embeddings are the sum of the token embeddings, the segmentation embeddings and the position embeddings.\n",
        "\n",
        "\n",
        "Essentially, the Transformer stacks a layer that maps sequences to sequences, so the output is also a sequence of vectors with a 1:1 correspondence between input and output tokens at the same index. And as we learnt earlier, BERT does not try to predict the next word in the sentence.\n",
        "\n",
        "BERT is pre-trained on two NLP tasks:\n",
        "\n",
        "**1. Masked Language Modeling (MLM)**\n",
        "\n",
        "BERT is designed as a deeply bidirectional model. The network effectively captures information from both the right and left context of a token from the first layer itself and all the way through to the last layer.\n",
        "\n",
        "Traditionally, we had language models either trained to predict the next word in a sentence (right-to-left context used in GPT) or language models that were trained on a left-to-right context. This made our models susceptible to errors due to loss in information.\n",
        "\n",
        "Let us take an example to understand it better\n",
        "\n",
        "Let’s say we have a sentence – “I love to read data science blogs on Kaggle”. We want to train a bi-directional language model. Instead of trying to predict the next word in the sequence, we can build a model to predict a missing word from within the sequence itself.\n",
        "\n",
        "Let’s replace “Kaggle” with “[MASK]”. This is a token to denote that the token is missing. We’ll then train the model in such a way that it should be able to predict “Kaggle” as the missing token: “I love to read data science blogs on [MASK].”\n",
        "\n",
        "This is the crux of a Masked Language Model. The authors of BERT also include some caveats to further improve this technique:\n",
        "\n",
        "To prevent the model from focusing too much on a particular position or tokens that are masked, the researchers randomly masked 15% of the words.\n",
        "\n",
        "The masked words were not always replaced by the masked tokens [MASK] because the [MASK] token would never appear during fine-tuning.\n",
        "\n",
        "So, the researchers used the below technique:\n",
        "\n",
        "* 80% of the time the words were replaced with the masked token [MASK]\n",
        "* 10% of the time the words were replaced with random words\n",
        "* 10% of the time the words were left unchanged\n",
        "\n",
        "\n",
        "**2. Next Sentence Prediction (NSP)**\n",
        "\n",
        "**Masked Language Models (MLMs)** learn to understand the relationship between words. Additionally, BERT is also trained on the task of Next Sentence Prediction for tasks that require an understanding of the relationship between sentences.\n",
        "\n",
        "In order to understand relationship between two sentences, BERT training process also uses next sentence prediction. A pre-trained model with this kind of understanding is relevant for tasks like question answering. During training the model gets as input pairs of sentences and it learns to predict if the second sentence is the next sentence in the original text as well.\n",
        "\n",
        "As we have seen earlier, BERT separates sentences with a special [SEP] token. During training the model is fed with two input sentences at a time such that:\n",
        "\n",
        "* 50% of the time the second sentence comes after the first one.\n",
        "* 50% of the time it is a a random sentence from the full corpus.\n",
        "\n",
        "BERT is then required to predict whether the second sentence is random or not, with the assumption that the random sentence will be disconnected from the first sentence:\n",
        "![](https://towardsml.files.wordpress.com/2019/09/nsp-1.png)\n",
        "\n",
        "To predict if the second sentence is connected to the first one or not, basically the complete input sequence goes through the Transformer based model, the output of the [CLS] token is transformed into a 2×1 shaped vector using a simple classification layer, and the IsNext-Label is assigned using softmax.\n",
        "\n",
        "The model is trained with both Masked LM and Next Sentence Prediction together. This is to minimize the combined loss function of the two strategies — “together is better”."
      ]
    },
    {
      "metadata": {
        "id": "Ab9ZK4UnOqjc"
      },
      "cell_type": "markdown",
      "source": [
        "### 1.6 When can we use it? <a id=\"A16\"></a> <br>\n",
        "\n",
        "BERT outperformed the state-of-the-art across a wide variety of tasks under general language understanding like\n",
        "\n",
        "* **Natural Language Inference**\n",
        "* **Sentiment Analysis**\n",
        "* **Question Answering**\n",
        "* **Paraphrase detection**\n",
        "* **Linguistic Acceptability**"
      ]
    },
    {
      "metadata": {
        "id": "MadK6qL8Oqjc"
      },
      "cell_type": "markdown",
      "source": [
        "### 1.7 How to fine-tune BERT? <a id=\"A17\"></a> <br>\n",
        "![](https://www.researchgate.net/publication/340295341/figure/fig1/AS:874992090771456@1585625779336/BERT-architecture-1.jpg)\n",
        "Using BERT for a specific task is relatively straightforward:\n",
        "\n",
        "BERT can be used for a wide variety of language tasks, while only adding a small layer to the core model:\n",
        "1. Classification tasks such as sentiment analysis are done similarly to Next Sentence classification, by adding a classification layer on top of the Transformer output for the [CLS] token.\n",
        "1. In Question Answering tasks (e.g. SQuAD v1.1), the software receives a question regarding a text sequence and is required to mark the answer in the sequence. Using BERT, a Q&A model can be trained by learning two extra vectors that mark the beginning and the end of the answer.\n",
        "![](https://blog.scaleway.com/content/images/2019/08/squadbert.jpeg)\n",
        "1. In Named Entity Recognition (NER), the software receives a text sequence and is required to mark the various types of entities (Person, Organization, Date, etc) that appear in the text. Using BERT, a NER model can be trained by feeding the output vector of each token into a classification layer that predicts the NER label.\n",
        "1. In the fine-tuning training, most hyper-parameters stay the same as in BERT training, and the paper gives specific guidance on the hyper-parameters that require tuning. The BERT team has used this technique to achieve state-of-the-art results on a wide variety of challenging natural language tasks."
      ]
    },
    {
      "metadata": {
        "id": "sUYsBzWTOqjc"
      },
      "cell_type": "markdown",
      "source": [
        "## 2. Use Case - Text Classification using BERT <a id=\"A2\"></a> <br>\n"
      ]
    },
    {
      "metadata": {
        "id": "A29-hpy4Oqjc"
      },
      "cell_type": "markdown",
      "source": [
        "Let us install the pytorch interface for BERT by Hugging Face. (This library contains interfaces for other pretrained language models like OpenAI's GPT and GPT-2.) I have selected the pytorch interface because it strikes a nice balance between the high-level APIs and tensorflow code ."
      ]
    },
    {
      "metadata": {
        "_kg_hide-output": true,
        "trusted": true,
        "id": "rbUS7_c3Oqjd"
      },
      "cell_type": "code",
      "source": [
        "!pip install pytorch-pretrained-bert pytorch-nlp"
      ],
      "execution_count": null,
      "outputs": []
    },
    {
      "metadata": {
        "trusted": true,
        "id": "aEWRbMSOOqjd"
      },
      "cell_type": "code",
      "source": [
        "# Import Libraries\n",
        "\n",
        "import tensorflow as tf\n",
        "import torch\n",
        "from torch.utils.data import TensorDataset, DataLoader, RandomSampler, SequentialSampler\n",
        "from keras.preprocessing.sequence import pad_sequences\n",
        "from sklearn.model_selection import train_test_split\n",
        "from pytorch_pretrained_bert import BertTokenizer, BertConfig\n",
        "from pytorch_pretrained_bert import BertAdam, BertForSequenceClassification\n",
        "from tqdm import tqdm, trange\n",
        "import pandas as pd\n",
        "import io\n",
        "import numpy as np\n",
        "import matplotlib.pyplot as plt\n",
        "%matplotlib inline"
      ],
      "execution_count": null,
      "outputs": []
    },
    {
      "metadata": {
        "id": "_eTHmgpkOqjd"
      },
      "cell_type": "markdown",
      "source": [
        "### Load Dataset:\n",
        "\n",
        "I will be using **The Corpus of Linguistic Acceptability (CoLA) dataset** for single sentence classification.\n",
        "\n",
        "It's a set of sentences labeled as grammatically correct or incorrect. The data is as follows:\n",
        "\n",
        "Column 1: the code representing the source of the sentence.\n",
        "\n",
        "Column 2: the acceptability judgment label (0=unacceptable, 1=acceptable).\n",
        "\n",
        "Column 3: the acceptability judgment as originally notated by the author.\n",
        "\n",
        "Column 4: the sentence."
      ]
    },
    {
      "metadata": {
        "trusted": true,
        "id": "so0H8QxbOqjd"
      },
      "cell_type": "code",
      "source": [
        "df = pd.read_csv(\"../input/cola-the-corpus-of-linguistic-acceptability/cola_public/raw/in_domain_train.tsv\", delimiter='\\t', header=None, names=['sentence_source', 'label', 'label_notes', 'sentence'])"
      ],
      "execution_count": null,
      "outputs": []
    },
    {
      "metadata": {
        "trusted": true,
        "id": "TR9REme8Oqjd"
      },
      "cell_type": "code",
      "source": [
        "df.shape"
      ],
      "execution_count": null,
      "outputs": []
    },
    {
      "metadata": {
        "trusted": true,
        "id": "XcRohzjaOqjd"
      },
      "cell_type": "code",
      "source": [
        "df.sample(10)"
      ],
      "execution_count": null,
      "outputs": []
    },
    {
      "metadata": {
        "trusted": true,
        "id": "t9vNOehmOqjd"
      },
      "cell_type": "code",
      "source": [
        "# Create sentence and label lists\n",
        "sentences = df.sentence.values\n",
        "\n",
        "# We need to add special tokens at the beginning and end of each sentence for BERT to work properly\n",
        "sentences = [\"[CLS] \" + sentence + \" [SEP]\" for sentence in sentences]\n",
        "labels = df.label.values"
      ],
      "execution_count": null,
      "outputs": []
    },
    {
      "metadata": {
        "id": "mc7Sr7EeOqjd"
      },
      "cell_type": "markdown",
      "source": [
        "Next, import the BERT tokenizer, used to convert our text into tokens that correspond to BERT's vocabulary."
      ]
    },
    {
      "metadata": {
        "trusted": true,
        "id": "PPEpCRzROqjd"
      },
      "cell_type": "code",
      "source": [
        "tokenizer = BertTokenizer.from_pretrained('bert-base-uncased', do_lower_case=True)\n",
        "\n",
        "tokenized_texts = [tokenizer.tokenize(sent) for sent in sentences]\n",
        "print (\"Tokenize the first sentence:\")\n",
        "print (tokenized_texts[0])"
      ],
      "execution_count": null,
      "outputs": []
    },
    {
      "metadata": {
        "id": "Kx0lJwHROqjd"
      },
      "cell_type": "markdown",
      "source": [
        "BERT requires specifically formatted inputs. For each tokenized input sentence, we need to create:\n",
        "\n",
        "* **input ids**: a sequence of integers identifying each input token to its index number in the BERT tokenizer vocabulary\n",
        "* **segment mask**: (optional) a sequence of 1s and 0s used to identify whether the input is one sentence or two sentences long. For one sentence inputs, this is simply a sequence of 0s. For two sentence inputs, there is a 0 for each token of the first sentence, followed by a 1 for each token of the second sentence\n",
        "* **attention mask**: (optional) a sequence of 1s and 0s, with 1s for all input tokens and 0s for all padding tokens (we'll detail this in the next paragraph)\n",
        "* **labels**: a single value of 1 or 0. In our task 1 means \"grammatical\" and 0 means \"ungrammatical\"\n",
        "\n",
        "Although we can have variable length input sentences, BERT does requires our input arrays to be the same size. I addressed this by first choosing a maximum sentence length, and then padding and truncating our inputs until every input sequence is of the same length.\n",
        "\n",
        "* To \"pad\" our inputs in this context means that if a sentence is shorter than the maximum sentence length, we simply add 0s to the end of the sequence until it is the maximum sentence length.\n",
        "\n",
        "* If a sentence is longer than the maximum sentence length, then we simply truncate the end of the sequence, discarding anything that does not fit into our maximum sentence length.\n",
        "\n",
        "I padded and truncated the sequences so that they all become of length MAX_LEN (\"post\" indicates that we want to pad and truncate at the end of the sequence, as opposed to the beginning) .\n",
        "\n",
        "pad_sequences is a utility function that we're borrowing from Keras. It simply handles the truncating and padding of Python lists."
      ]
    },
    {
      "metadata": {
        "trusted": true,
        "id": "XhXTaJqbOqje"
      },
      "cell_type": "code",
      "source": [
        "# Set the maximum sequence length. The longest sequence in our training set is 47, but we'll leave room on the end anyway.\n",
        "# In the original paper, the authors used a length of 512.\n",
        "MAX_LEN = 128"
      ],
      "execution_count": null,
      "outputs": []
    },
    {
      "metadata": {
        "trusted": true,
        "id": "bOXCTDQ8Oqje"
      },
      "cell_type": "code",
      "source": [
        "# Use the BERT tokenizer to convert the tokens to their index numbers in the BERT vocabulary\n",
        "input_ids = [tokenizer.convert_tokens_to_ids(x) for x in tokenized_texts]"
      ],
      "execution_count": null,
      "outputs": []
    },
    {
      "metadata": {
        "trusted": true,
        "id": "Yum13MgkOqje"
      },
      "cell_type": "code",
      "source": [
        "# Pad our input tokens\n",
        "input_ids = pad_sequences(input_ids, maxlen=MAX_LEN, dtype=\"long\", truncating=\"post\", padding=\"post\")"
      ],
      "execution_count": null,
      "outputs": []
    },
    {
      "metadata": {
        "trusted": true,
        "id": "ytMxjVjrOqje"
      },
      "cell_type": "code",
      "source": [
        "# Create attention masks\n",
        "attention_masks = []\n",
        "\n",
        "# Create a mask of 1s for each token followed by 0s for padding\n",
        "for seq in input_ids:\n",
        "  seq_mask = [float(i>0) for i in seq]\n",
        "  attention_masks.append(seq_mask)"
      ],
      "execution_count": null,
      "outputs": []
    },
    {
      "metadata": {
        "trusted": true,
        "id": "5H50r7FaOqje"
      },
      "cell_type": "code",
      "source": [
        "# Use train_test_split to split our data into train and validation sets for training\n",
        "\n",
        "train_inputs, validation_inputs, train_labels, validation_labels = train_test_split(input_ids, labels,\n",
        "                                                            random_state=2018, test_size=0.1)\n",
        "train_masks, validation_masks, _, _ = train_test_split(attention_masks, input_ids,\n",
        "                                             random_state=2018, test_size=0.1)"
      ],
      "execution_count": null,
      "outputs": []
    },
    {
      "metadata": {
        "trusted": true,
        "id": "ef4iW-oUOqje"
      },
      "cell_type": "code",
      "source": [
        "# Convert all of our data into torch tensors, the required datatype for our model\n",
        "\n",
        "train_inputs = torch.tensor(train_inputs)\n",
        "validation_inputs = torch.tensor(validation_inputs)\n",
        "train_labels = torch.tensor(train_labels)\n",
        "validation_labels = torch.tensor(validation_labels)\n",
        "train_masks = torch.tensor(train_masks)\n",
        "validation_masks = torch.tensor(validation_masks)"
      ],
      "execution_count": null,
      "outputs": []
    },
    {
      "metadata": {
        "trusted": true,
        "id": "pf-m22vGOqje"
      },
      "cell_type": "code",
      "source": [
        "# Select a batch size for training. For fine-tuning BERT on a specific task, the authors recommend a batch size of 16 or 32\n",
        "batch_size = 32\n",
        "\n",
        "# Create an iterator of our data with torch DataLoader. This helps save on memory during training because, unlike a for loop,\n",
        "# with an iterator the entire dataset does not need to be loaded into memory\n",
        "\n",
        "train_data = TensorDataset(train_inputs, train_masks, train_labels)\n",
        "train_sampler = RandomSampler(train_data)\n",
        "train_dataloader = DataLoader(train_data, sampler=train_sampler, batch_size=batch_size)\n",
        "\n",
        "validation_data = TensorDataset(validation_inputs, validation_masks, validation_labels)\n",
        "validation_sampler = SequentialSampler(validation_data)\n",
        "validation_dataloader = DataLoader(validation_data, sampler=validation_sampler, batch_size=batch_size)"
      ],
      "execution_count": null,
      "outputs": []
    },
    {
      "metadata": {
        "id": "ZoCsuSzfOqje"
      },
      "cell_type": "markdown",
      "source": [
        "### Train Model\n",
        "Now that our input data is properly formatted, it's time to fine tune the BERT model.\n",
        "\n",
        "For this task, we first want to modify the pre-trained BERT model to give outputs for classification, and then we want to continue training the model on our dataset until that the entire model, end-to-end, is well-suited for our task. Thankfully, the huggingface pytorch implementation includes a set of interfaces designed for a variety of NLP tasks. Though these interfaces are all built on top of a trained BERT model, each has different top layers and output types designed to accomodate their specific NLP task.\n",
        "\n",
        "We'll load **BertForSequenceClassification**. This is the normal BERT model with an added single linear layer on top for classification that we will use as a sentence classifier. As we feed input data, the entire pre-trained BERT model and the additional untrained classification layer is trained on our specific task.\n",
        "\n",
        "**Structure of Fine-Tuning Model**\n",
        "\n",
        "As we've showed beforehand, the first token of every sequence is the special classification token ([CLS]). Unlike the hidden state vector corresponding to a normal word token, the hidden state corresponding to this special token is designated by the authors of BERT as an aggregate representation of the whole sentence used for classification tasks. As such, when we feed in an input sentence to our model during training, the output is the length 768 hidden state vector corresponding to this token. The additional layer that we've added on top consists of untrained linear neurons of size [hidden_state, number_of_labels], so [768,2], meaning that the output of BERT plus our classification layer is a vector of two numbers representing the \"score\" for \"grammatical/non-grammatical\" that are then fed into cross-entropy loss.\n",
        "\n",
        "**The Fine-Tuning Process**\n",
        "\n",
        "Because the pre-trained BERT layers already encode a lot of information about the language, training the classifier is relatively inexpensive. Rather than training every layer in a large model from scratch, it's as if we have already trained the bottom layers 95% of where they need to be, and only really need to train the top layer, with a bit of tweaking going on in the lower levels to accomodate our task.\n",
        "\n",
        "Sometimes practicioners will opt to \"freeze\" certain layers when fine-tuning, or to apply different learning rates, apply diminishing learning rates, etc. all in an effort to preserve the good quality weights in the network and speed up training (often considerably). In fact, recent research on BERT specifically has demonstrated that freezing the majority of the weights results in only minimal accuracy declines, but there are exceptions and broader rules of transfer learning that should also be considered. For example, if your task and fine-tuning dataset is very different from the dataset used to train the transfer learning model, freezing the weights may not be a good idea. We'll cover the broader scope of transfer learning in NLP in a future post.\n",
        "\n",
        "OK, let's load BERT! There are a few different pre-trained BERT models available. \"bert-base-uncased\" means the version that has only lowercase letters (\"uncased\") and is the smaller version of the two (\"base\" vs \"large\")."
      ]
    },
    {
      "metadata": {
        "trusted": true,
        "id": "vtZOa-CgOqje"
      },
      "cell_type": "code",
      "source": [
        "# Load BertForSequenceClassification, the pretrained BERT model with a single linear classification layer on top.\n",
        "\n",
        "model = BertForSequenceClassification.from_pretrained(\"bert-base-uncased\", num_labels=2)"
      ],
      "execution_count": null,
      "outputs": []
    },
    {
      "metadata": {
        "id": "2hqKRzR-Oqje"
      },
      "cell_type": "markdown",
      "source": [
        "Now that we have our model loaded we need to grab the training hyperparameters from within the stored model.\n",
        "\n",
        "For the purposes of fine-tuning, the authors recommend the following hyperparameter ranges:\n",
        "\n",
        "Batch size: 16, 32\n",
        "Learning rate (Adam): 5e-5, 3e-5, 2e-5\n",
        "Number of epochs: 2, 3, 4"
      ]
    },
    {
      "metadata": {
        "trusted": true,
        "id": "zoe1Xm6hOqjf"
      },
      "cell_type": "code",
      "source": [
        "param_optimizer = list(model.named_parameters())\n",
        "no_decay = ['bias', 'gamma', 'beta']\n",
        "optimizer_grouped_parameters = [{'params': [p for n, p in param_optimizer if not any(nd in n for nd in no_decay)],'weight_decay_rate': 0.01},\n",
        "                                {'params': [p for n, p in param_optimizer if any(nd in n for nd in no_decay)],'weight_decay_rate': 0.0}]"
      ],
      "execution_count": null,
      "outputs": []
    },
    {
      "metadata": {
        "trusted": true,
        "id": "rvIdT1hWOqjf"
      },
      "cell_type": "code",
      "source": [
        "# This variable contains all of the hyperparemeter information our training loop needs\n",
        "optimizer = BertAdam(optimizer_grouped_parameters,lr=2e-5,warmup=.1)"
      ],
      "execution_count": null,
      "outputs": []
    },
    {
      "metadata": {
        "id": "MzxvxjCMOqjf"
      },
      "cell_type": "markdown",
      "source": [
        "For each pass in the training loop we have a training phase and a validation phase.\n",
        "\n",
        "At each pass we need to:\n",
        "\n",
        "**Training loop:**\n",
        "\n",
        "* Tell the model to compute gradients by setting the model in train mode\n",
        "* Unpack our data inputs and labels\n",
        "* Load data onto the GPU for acceleration\n",
        "* Clear out the gradients calculated in the previous pass. In pytorch the gradients accumulate by default (useful for things like RNNs) unless you explicitly clear them out\n",
        "* Forward pass (feed input data through the network)\n",
        "* Backward pass (backpropagation)\n",
        "* Tell the network to update parameters with optimizer.step()\n",
        "* Track variables for monitoring progress\n",
        "\n",
        "**Evalution loop:**\n",
        "\n",
        "* Tell the model not to compute gradients by setting th emodel in evaluation mode\n",
        "* Unpack our data inputs and labels\n",
        "* Load data onto the GPU for acceleration\n",
        "* Forward pass (feed input data through the network)\n",
        "* Compute loss on our validation data and track variables for monitoring progress"
      ]
    },
    {
      "metadata": {
        "trusted": true,
        "id": "xM4wWHO_Oqjh"
      },
      "cell_type": "code",
      "source": [
        "# Function to calculate the accuracy of our predictions vs labels\n",
        "def flat_accuracy(preds, labels):\n",
        "    pred_flat = np.argmax(preds, axis=1).flatten()\n",
        "    labels_flat = labels.flatten()\n",
        "    return np.sum(pred_flat == labels_flat) / len(labels_flat)"
      ],
      "execution_count": null,
      "outputs": []
    },
    {
      "metadata": {
        "trusted": true,
        "id": "NIK2d6AcOqjh"
      },
      "cell_type": "code",
      "source": [
        "t = []\n",
        "\n",
        "# Store our loss and accuracy for plotting\n",
        "train_loss_set = []\n",
        "\n",
        "# Number of training epochs\n",
        "epochs = 2\n",
        "\n",
        "# trange is a tqdm wrapper around the normal python range\n",
        "for _ in trange(epochs, desc=\"Epoch\"):\n",
        "\n",
        "\n",
        "  # Training\n",
        "\n",
        "  # Set our model to training mode (as opposed to evaluation mode)\n",
        "  model.train()\n",
        "\n",
        "  # Tracking variables\n",
        "  tr_loss = 0\n",
        "  nb_tr_examples, nb_tr_steps = 0, 0\n",
        "\n",
        "  # Train the data for one epoch\n",
        "  for step, batch in enumerate(train_dataloader):\n",
        "    # Add batch to GPU\n",
        "    # batch = tuple(t.to(device) for t in batch)\n",
        "    # Unpack the inputs from our dataloader\n",
        "    b_input_ids, b_input_mask, b_labels = batch\n",
        "    # Clear out the gradients (by default they accumulate)\n",
        "    optimizer.zero_grad()\n",
        "    # Forward pass\n",
        "    loss = model(b_input_ids, token_type_ids=None, attention_mask=b_input_mask, labels=b_labels)\n",
        "    train_loss_set.append(loss.item())\n",
        "    # Backward pass\n",
        "    loss.backward()\n",
        "    # Update parameters and take a step using the computed gradient\n",
        "    optimizer.step()\n",
        "\n",
        "\n",
        "    # Update tracking variables\n",
        "    tr_loss += loss.item()\n",
        "    nb_tr_examples += b_input_ids.size(0)\n",
        "    nb_tr_steps += 1\n",
        "\n",
        "  print(\"Train loss: {}\".format(tr_loss/nb_tr_steps))\n",
        "\n",
        "\n",
        "  # Validation\n",
        "\n",
        "  # Put model in evaluation mode to evaluate loss on the validation set\n",
        "  model.eval()\n",
        "\n",
        "  # Tracking variables\n",
        "  eval_loss, eval_accuracy = 0, 0\n",
        "  nb_eval_steps, nb_eval_examples = 0, 0\n",
        "\n",
        "  # Evaluate data for one epoch\n",
        "  for batch in validation_dataloader:\n",
        "    # Add batch to GPU\n",
        "    # batch = tuple(t.to(device) for t in batch)\n",
        "    # Unpack the inputs from our dataloader\n",
        "    b_input_ids, b_input_mask, b_labels = batch\n",
        "    # Telling the model not to compute or store gradients, saving memory and speeding up validation\n",
        "    with torch.no_grad():\n",
        "      # Forward pass, calculate logit predictions\n",
        "      logits = model(b_input_ids, token_type_ids=None, attention_mask=b_input_mask)\n",
        "\n",
        "    # Move logits and labels to CPU\n",
        "    logits = logits.detach().cpu().numpy()\n",
        "    label_ids = b_labels.to('cpu').numpy()\n",
        "\n",
        "    tmp_eval_accuracy = flat_accuracy(logits, label_ids)\n",
        "\n",
        "    eval_accuracy += tmp_eval_accuracy\n",
        "    nb_eval_steps += 1\n",
        "\n",
        "  print(\"Validation Accuracy: {}\".format(eval_accuracy/nb_eval_steps))"
      ],
      "execution_count": null,
      "outputs": []
    },
    {
      "metadata": {
        "id": "PZmPhxKbOqji"
      },
      "cell_type": "markdown",
      "source": [
        "## Training Evaluation\n",
        "\n",
        "Let's take a look at our training loss over all batches:"
      ]
    },
    {
      "metadata": {
        "trusted": true,
        "id": "YapMf_vEOqji"
      },
      "cell_type": "code",
      "source": [
        "plt.figure(figsize=(15,8))\n",
        "plt.title(\"Training loss\")\n",
        "plt.xlabel(\"Batch\")\n",
        "plt.ylabel(\"Loss\")\n",
        "plt.plot(train_loss_set)\n",
        "plt.show()"
      ],
      "execution_count": null,
      "outputs": []
    },
    {
      "metadata": {
        "id": "NNutNTJ4Oqji"
      },
      "cell_type": "markdown",
      "source": [
        "## Predict and Evaluate on Holdout Set\n",
        "Now we'll load the holdout dataset and prepare inputs just as we did with the training set. Then we'll evaluate predictions using [Matthew's correlation coefficient](https://scikit-learn.org/stable/modules/generated/sklearn.metrics.matthews_corrcoef.html) because this is the metric used by the wider NLP community to evaluate performance on CoLA. With this metric, +1 is the best score, and -1 is the worst score. This way, we can see how well we perform against the state of the art models for this specific task."
      ]
    },
    {
      "metadata": {
        "trusted": true,
        "id": "vO6tmjNPOqji"
      },
      "cell_type": "code",
      "source": [
        "df = pd.read_csv(\"../input/cola-the-corpus-of-linguistic-acceptability/cola_public/raw/out_of_domain_dev.tsv\", delimiter='\\t', header=None, names=['sentence_source', 'label', 'label_notes', 'sentence'])"
      ],
      "execution_count": null,
      "outputs": []
    },
    {
      "metadata": {
        "trusted": true,
        "id": "0lioT_9yOqji"
      },
      "cell_type": "code",
      "source": [
        "# Create sentence and label lists\n",
        "sentences = df.sentence.values\n",
        "\n",
        "# We need to add special tokens at the beginning and end of each sentence for BERT to work properly\n",
        "sentences = [\"[CLS] \" + sentence + \" [SEP]\" for sentence in sentences]\n",
        "labels = df.label.values\n",
        "\n",
        "tokenized_texts = [tokenizer.tokenize(sent) for sent in sentences]\n",
        "\n",
        "\n",
        "MAX_LEN = 128\n",
        "\n",
        "# Use the BERT tokenizer to convert the tokens to their index numbers in the BERT vocabulary\n",
        "input_ids = [tokenizer.convert_tokens_to_ids(x) for x in tokenized_texts]\n",
        "\n",
        "# Pad our input tokens\n",
        "input_ids = pad_sequences(input_ids, maxlen=MAX_LEN, dtype=\"long\", truncating=\"post\", padding=\"post\")\n",
        "\n",
        "# Create attention masks\n",
        "attention_masks = []\n",
        "\n",
        "# Create a mask of 1s for each token followed by 0s for padding\n",
        "for seq in input_ids:\n",
        "  seq_mask = [float(i>0) for i in seq]\n",
        "  attention_masks.append(seq_mask)\n",
        "\n",
        "prediction_inputs = torch.tensor(input_ids)\n",
        "prediction_masks = torch.tensor(attention_masks)\n",
        "prediction_labels = torch.tensor(labels)\n",
        "\n",
        "batch_size = 32\n",
        "\n",
        "\n",
        "prediction_data = TensorDataset(prediction_inputs, prediction_masks, prediction_labels)\n",
        "prediction_sampler = SequentialSampler(prediction_data)\n",
        "prediction_dataloader = DataLoader(prediction_data, sampler=prediction_sampler, batch_size=batch_size)"
      ],
      "execution_count": null,
      "outputs": []
    },
    {
      "metadata": {
        "trusted": true,
        "id": "5f3mVu3UOqji"
      },
      "cell_type": "code",
      "source": [
        "# Prediction on test set\n",
        "\n",
        "# Put model in evaluation mode\n",
        "model.eval()\n",
        "\n",
        "# Tracking variables\n",
        "predictions , true_labels = [], []\n",
        "\n",
        "# Predict\n",
        "for batch in prediction_dataloader:\n",
        "  # Add batch to GPU\n",
        " # batch = tuple(t.to(device) for t in batch)\n",
        "  # Unpack the inputs from our dataloader\n",
        "  b_input_ids, b_input_mask, b_labels = batch\n",
        "  # Telling the model not to compute or store gradients, saving memory and speeding up prediction\n",
        "  with torch.no_grad():\n",
        "    # Forward pass, calculate logit predictions\n",
        "    logits = model(b_input_ids, token_type_ids=None, attention_mask=b_input_mask)\n",
        "\n",
        "  # Move logits and labels to CPU\n",
        "  logits = logits.detach().cpu().numpy()\n",
        "  label_ids = b_labels.to('cpu').numpy()\n",
        "\n",
        "  # Store predictions and true labels\n",
        "  predictions.append(logits)\n",
        "  true_labels.append(label_ids)"
      ],
      "execution_count": null,
      "outputs": []
    },
    {
      "metadata": {
        "trusted": true,
        "id": "tOcpUcHAOqji"
      },
      "cell_type": "code",
      "source": [
        "# Import and evaluate each test batch using Matthew's correlation coefficient\n",
        "from sklearn.metrics import matthews_corrcoef\n",
        "matthews_set = []\n",
        "\n",
        "for i in range(len(true_labels)):\n",
        "  matthews = matthews_corrcoef(true_labels[i],\n",
        "                 np.argmax(predictions[i], axis=1).flatten())\n",
        "  matthews_set.append(matthews)"
      ],
      "execution_count": null,
      "outputs": []
    },
    {
      "metadata": {
        "id": "24TcBjGBOqji"
      },
      "cell_type": "markdown",
      "source": [
        "## 3. References <a id=\"A3\"></a> <br>\n",
        "\n",
        "* https://towardsml.com/2019/09/17/bert-explained-a-complete-guide-with-theory-and-tutorial/\n",
        "* https://www.analyticsvidhya.com/blog/2019/09/demystifying-bert-groundbreaking-nlp-framework/\n",
        "* https://towardsdatascience.com/bert-for-dummies-step-by-step-tutorial-fb90890ffe03\n",
        "* https://towardsml.com/2019/09/17/bert-explained-a-complete-guide-with-theory-and-tutorial/"
      ]
    },
    {
      "metadata": {
        "id": "AdX8-mSMOqji"
      },
      "cell_type": "markdown",
      "source": [
        "## 4. Conclusion <a id=\"A4\"></a> <br>\n",
        "### I hope you have a good understanding on how to use BERT by now .\n",
        "\n",
        "## Please do leave your comments /suggestions and if you like this notebook please do <font color='red'>UPVOTE"
      ]
    },
    {
      "metadata": {
        "id": "JzQ53k3hOqjj"
      },
      "cell_type": "markdown",
      "source": [
        "![](https://miro.medium.com/max/595/1*ax2uBqfp963n4PQVqmGplQ.png)<a id=\"TOC2\"></a> <br>\n",
        "\n",
        "## Table of Contents\n",
        "1. [**What is spaCy**](#1)\n",
        "\n",
        "    1.1 [**What spaCy is NOT**](#11)\n",
        "    \n",
        "    1.2 [**Installation**](#12)\n",
        "    \n",
        "    1.3 [**Statistical Models**](#13)\n",
        "    \n",
        "    1.4 [**Dependency Parsing**](#14)\n",
        "    \n",
        "    1.5 [**spaCy’s Processing Pipeline**](#15)\n",
        "        \n",
        "1. [**Features**](#2)\n",
        "    \n",
        "    2.1 [**Tokenization**](#21)\n",
        "    \n",
        "    2.2 [**Part-Of-Speech (POS) Tagging**](#22)\n",
        "    \n",
        "    2.3 [**Dependency Parsing**](#23)\n",
        "    \n",
        "    2.4 [**Lemmatization**](#24)\n",
        "    \n",
        "    2.5 [**Sentence Boundary Detection (SBD)**](#25)\n",
        "    \n",
        "    2.6 [**Named Entity Recognition (NER)**](#26)\n",
        "    \n",
        "    2.7 [**Entity Linking (EL)**](#27)\n",
        "    \n",
        "    2.8 [**Similarity**](#28)\n",
        "    \n",
        "    2.9 [**Text Classification**](#29)\n",
        "    \n",
        "    2.10 [**Training**](#210)\n",
        "    \n",
        "    2.11 [**Serialization**](#211)\n",
        "    \n",
        "         \n",
        "1. [References](#3)  \n",
        "\n",
        "1. [Conclusion](#4)          "
      ]
    },
    {
      "metadata": {
        "id": "ZvY-H_-nOqjj"
      },
      "cell_type": "markdown",
      "source": [
        "## 1. What is spaCy <a id=\"1\"></a> <br>\n",
        "    \n",
        "spaCy is a free, open-source library for advanced Natural Language Processing (NLP) in Python. It’s written in Cython and is designed to build information extraction or natural language understanding systems. It’s built for production use and provides a concise and user-friendly API.\n",
        "\n",
        "If you’re working with a lot of text, you’ll eventually want to know more about it. For example, what’s it about? What do the words mean in context? Who is doing what to whom? What companies and products are mentioned? Which texts are similar to each other?\n",
        "\n",
        "spaCy is designed specifically for production use and helps you build applications that process and “understand” large volumes of text. It can be used to build information extraction or natural language understanding systems, or to pre-process text for deep learning.\n",
        "\n",
        "### 1.1 What spaCy is NOT <a id=\"11\"></a> <br>\n",
        "\n",
        "* **spaCy is not a platform** or “an API”. Unlike a platform, spaCy does not provide a software as a service, or a web application. It’s an open-source library designed to help you build NLP applications, not a consumable service.\n",
        "\n",
        "* **spaCy is not an out-of-the-box chat bot engine**. While spaCy can be used to power conversational applications, it’s not designed specifically for chat bots, and only provides the underlying text processing capabilities.\n",
        "\n",
        "* **spaCy is not research software**. It’s built on the latest research, but it’s designed to get things done. This leads to fairly different design decisions than NLTK or CoreNLP, which were created as platforms for teaching and research. The main difference is that spaCy is integrated and opinionated. spaCy tries to avoid asking the user to choose between multiple algorithms that deliver equivalent functionality. Keeping the menu small lets spaCy deliver generally better performance and developer experience.\n",
        "\n",
        "* **spaCy is not a company.** It’s an open-source library. Our company publishing spaCy and other software is called Explosion AI.\n",
        "\n"
      ]
    },
    {
      "metadata": {
        "id": "qzWCZnxKOqjj"
      },
      "cell_type": "markdown",
      "source": [
        "### 1.2 Installation <a id=\"12\"></a> <br>\n",
        "\n",
        "Spacy, its data, and its models can be easily installed using python package index and setup tools. Use the following command to install spacy in your machine:"
      ]
    },
    {
      "metadata": {
        "_kg_hide-output": true,
        "trusted": true,
        "id": "TJJRxnbHOqjj"
      },
      "cell_type": "code",
      "source": [
        "!pip install -U spacy"
      ],
      "execution_count": null,
      "outputs": []
    },
    {
      "metadata": {
        "id": "Wyquk2e9Oqjj"
      },
      "cell_type": "markdown",
      "source": [
        "### 1.3 Statistical models <a id=\"13\"></a> <br>\n",
        "\n",
        "Some of spaCy’s features work independently, others require statistical models to be loaded, which enable spaCy to predict linguistic annotations – for example, whether a word is a verb or a noun. spaCy currently offers statistical models for a variety of languages, which can be installed as individual Python modules. Models can differ in size, speed, memory usage, accuracy and the data they include. The model you choose always depends on your use case and the texts you’re working with. For a general-purpose use case, the small, default models are always a good start. They typically include the following components:\n",
        "\n",
        "* **Binary weights** for the part-of-speech tagger, dependency parser and named entity recognizer to predict those annotations in context.\n",
        "* **Lexical entries** in the vocabulary, i.e. words and their context-independent attributes like the shape or spelling.\n",
        "* **Data files** like lemmatization rules and lookup tables.\n",
        "* **Word vectors**, i.e. multi-dimensional meaning representations of words that let you determine how similar they are to each other.\n",
        "* **Configuration** options, like the language and processing pipeline settings, to put spaCy in the correct state when you load in the model.\n",
        "\n",
        "These models are the power engines of spaCy. These models enable spaCy to perform several NLP related tasks, such as part-of-speech tagging, named entity recognition, and dependency parsing.\n",
        "\n",
        "I’ve listed below the different statistical models in spaCy along with their specifications:\n",
        "\n",
        "* en_core_web_sm: English multi-task CNN trained on OntoNotes. Size – 11 MB\n",
        "\n",
        "* en_core_web_md: English multi-task CNN trained on OntoNotes, with GloVe vectors trained on Common Crawl. Size – 91 MB\n",
        "\n",
        "* en_core_web_lg: English multi-task CNN trained on OntoNotes, with GloVe vectors trained on Common Crawl. Size – 789 MB\n",
        "\n",
        "Importing these models is super easy. We can import a model by just executing spacy.load(‘model_name’) as shown below:"
      ]
    },
    {
      "metadata": {
        "_kg_hide-output": true,
        "trusted": true,
        "id": "BeAeOucNOqjj"
      },
      "cell_type": "code",
      "source": [
        "!python -m spacy download en_core_web_lg"
      ],
      "execution_count": null,
      "outputs": []
    },
    {
      "metadata": {
        "_kg_hide-output": true,
        "trusted": true,
        "id": "09vUdebLOqjj"
      },
      "cell_type": "code",
      "source": [
        "!python -m spacy download en_core_web_sm"
      ],
      "execution_count": null,
      "outputs": []
    },
    {
      "metadata": {
        "trusted": true,
        "id": "0jh6WnB6Oqjj"
      },
      "cell_type": "code",
      "source": [
        "import spacy\n",
        "nlp = spacy.load('en_core_web_sm')"
      ],
      "execution_count": null,
      "outputs": []
    },
    {
      "metadata": {
        "id": "SHcJi4_6Oqjj"
      },
      "cell_type": "markdown",
      "source": [
        "\n",
        "### 1.4 Linguistic annotations <a id=\"14\"></a> <br>\n",
        "\n",
        "\n",
        "spaCy provides a variety of linguistic annotations to give you insights into a text’s grammatical structure. This includes the word types, like the parts of speech, and how the words are related to each other. For example, if you’re analyzing text, it makes a huge difference whether a noun is the subject of a sentence, or the object – or whether “google” is used as a verb, or refers to the website or company in a specific context.\n",
        "\n",
        "Once you have downloaded and installed a model, you can load it via spacy.load(). This will return a Language object containing all components and data needed to process text. We usually call it nlp. Calling the nlp object on a string of text will return a processed Doc:"
      ]
    },
    {
      "metadata": {
        "trusted": true,
        "id": "RD6uLemAOqjk"
      },
      "cell_type": "code",
      "source": [
        "import spacy\n",
        "nlp = spacy.load(\"en_core_web_sm\")\n",
        "\n",
        "doc = nlp(\"Company Y is planning to acquire stake in X company for $23 billion\")\n",
        "for token in doc:\n",
        "    print(token.text, token.pos_, token.dep_)"
      ],
      "execution_count": null,
      "outputs": []
    },
    {
      "metadata": {
        "id": "-JbUkEtYOqjk"
      },
      "cell_type": "markdown",
      "source": [
        "Even though a Doc is processed – e.g. split into individual words and annotated – it still holds all information of the original text, like whitespace characters. You can always get the offset of a token into the original string, or reconstruct the original by joining the tokens and their trailing whitespace. This way, you’ll never lose any information when processing text with spaCy.\n",
        "\n",
        "spaCy’s Processing Pipeline\n",
        "### 1.5 spaCy’s Processing Pipeline <a id=\"15\"></a> <br>\n",
        "The first step for a text string, when working with spaCy, is to pass it to an NLP object. This object is essentially a pipeline of several text pre-processing operations through which the input text string has to go through.\n",
        "\n",
        "![](https://d33wubrfki0l68.cloudfront.net/16b2ccafeefd6d547171afa23f9ac62f159e353d/48b91/pipeline-7a14d4edd18f3edfee8f34393bff2992.svg)\n",
        "\n",
        "As you can see in the figure above, the NLP pipeline has multiple components, such as tokenizer, tagger, parser, ner, etc. So, the input text string has to go through all these components before we can work on it.\n",
        "\n",
        "Let me show you how we can create an nlp object:\n",
        "\n"
      ]
    },
    {
      "metadata": {
        "trusted": true,
        "id": "t_hShvmEOqjk"
      },
      "cell_type": "code",
      "source": [
        "import spacy\n",
        "nlp = spacy.load('en_core_web_sm')\n",
        "\n",
        "# Create an nlp object\n",
        "doc = nlp(\"He went to play cricket with friends in the stadium\")"
      ],
      "execution_count": null,
      "outputs": []
    },
    {
      "metadata": {
        "id": "ksLVMGFQOqjk"
      },
      "cell_type": "markdown",
      "source": [
        "You can use the below code to figure out the active pipeline components:"
      ]
    },
    {
      "metadata": {
        "trusted": true,
        "id": "4WjdoNVPOqjk"
      },
      "cell_type": "code",
      "source": [
        "nlp.pipe_names"
      ],
      "execution_count": null,
      "outputs": []
    },
    {
      "metadata": {
        "id": "bFHq-7nIOqjk"
      },
      "cell_type": "markdown",
      "source": [
        "Just in case you wish to disable the pipeline components and keep only the tokenizer up and running, then you can use the code below to disable the pipeline components:"
      ]
    },
    {
      "metadata": {
        "trusted": true,
        "id": "pXRE6h_NOqjk"
      },
      "cell_type": "code",
      "source": [
        "nlp.disable_pipes('tagger', 'parser')"
      ],
      "execution_count": null,
      "outputs": []
    },
    {
      "metadata": {
        "id": "vFx1xOQvOqjk"
      },
      "cell_type": "markdown",
      "source": [
        "Let’s again check the active pipeline component:"
      ]
    },
    {
      "metadata": {
        "trusted": true,
        "id": "hrcH8a3vOqjk"
      },
      "cell_type": "code",
      "source": [
        "nlp.pipe_names"
      ],
      "execution_count": null,
      "outputs": []
    },
    {
      "metadata": {
        "id": "dPy23I9cOqjk"
      },
      "cell_type": "markdown",
      "source": [
        "## 2. Features <a id=\"2\"></a> <br>\n",
        "### 2.1 Tokenization <a id=\"21\"></a> <br>\n",
        "\n",
        "\tSegmenting text into words, punctuations marks etc.\n",
        "\n",
        "During processing, spaCy first tokenizes the text, i.e. segments it into words, punctuation and so on. This is done by applying rules specific to each language."
      ]
    },
    {
      "metadata": {
        "trusted": true,
        "id": "P47VYBJ8Oqjk"
      },
      "cell_type": "code",
      "source": [
        "import spacy\n",
        "\n",
        "nlp = spacy.load(\"en_core_web_sm\")\n",
        "doc = nlp(\"Reliance is looking at buying U.K. based analytics startup for $7 billion\")\n",
        "for token in doc:\n",
        "    print(token.text)"
      ],
      "execution_count": null,
      "outputs": []
    },
    {
      "metadata": {
        "id": "DPEcLaB0Oqjk"
      },
      "cell_type": "markdown",
      "source": [
        "First, the raw text is split on whitespace characters, similar to text.split(' '). Then, the tokenizer processes the text from left to right. On each substring, it performs two checks:\n",
        "\n",
        "* Does the substring match a tokenizer exception rule? For example, “don’t” does not contain whitespace, but should be split into two tokens, “do” and “n’t”, while “U.K.” should always remain one token.\n",
        "\n",
        "* Can a prefix, suffix or infix be split off? For example punctuation like commas, periods, hyphens or quotes.\n",
        "\n",
        "If there’s a match, the rule is applied and the tokenizer continues its loop, starting with the newly split substrings. This way, spaCy can split complex, nested tokens like combinations of abbreviations and multiple punctuation marks.\n",
        "\n",
        "![](https://d33wubrfki0l68.cloudfront.net/fedbc2aef51d678ae40a03cb35253dae2d52b18b/3d4b2/tokenization-57e618bd79d933c4ccd308b5739062d6.svg)"
      ]
    },
    {
      "metadata": {
        "id": "0xV2NOX5Oqjl"
      },
      "cell_type": "markdown",
      "source": [
        "### 2.2 Part-Of-Speech (POS) Tagging <a id=\"22\"></a> <br>\n",
        "\n",
        "Part of speech or POS is a grammatical role that explains how a particular word is used in a sentence. There are eight parts of speech.\n",
        "\n",
        "* Noun\n",
        "* Pronoun\n",
        "* Adjective\n",
        "* Verb\n",
        "* Adverb\n",
        "* Preposition\n",
        "* Conjunction\n",
        "* Interjection\n",
        "\n",
        "Part of speech tagging is the process of assigning a POS tag to each token depending on its usage in the sentence. POS tags are useful for assigning a syntactic category like noun or verb to each word.\n",
        "\n",
        "After tokenization, spaCy can parse and tag a given Doc. This is where the statistical model comes in, which enables spaCy to make a prediction of which tag or label most likely applies in this context. A model consists of binary data and is produced by showing a system enough examples for it to make predictions that generalize across the language – for example, a word following “the” in English is most likely a noun.\n",
        "\n",
        "Linguistic annotations are available as Token attributes. Like many NLP libraries, spaCy encodes all strings to hash values to reduce memory usage and improve efficiency. So to get the readable string representation of an attribute, we need to add an underscore _ to its name.\n",
        "\n",
        "In English grammar, the parts of speech tell us what is the function of a word and how it is used in a sentence. Some of the common parts of speech in English are Noun, Pronoun, Adjective, Verb, Adverb, etc.\n",
        "\n",
        "POS tagging is the task of automatically assigning POS tags to all the words of a sentence. It is helpful in various downstream tasks in NLP, such as feature engineering, language understanding, and information extraction.\n",
        "\n",
        "Performing POS tagging, in spaCy, is a cakewalk.\n",
        "\n",
        "In spaCy, POS tags are available as an attribute on the Token object:"
      ]
    },
    {
      "metadata": {
        "trusted": true,
        "id": "tSPRXTx8Oqjl"
      },
      "cell_type": "code",
      "source": [
        "import spacy\n",
        "nlp = spacy.load('en_core_web_sm')\n",
        "\n",
        "# Create an nlp object\n",
        "doc = nlp(\"Reliance is looking at buying U.K. based analytics startup for $7 billion\")\n",
        "\n",
        "# Iterate over the tokens\n",
        "for token in doc:\n",
        "    # Print the token and its part-of-speech tag\n",
        "    print(token, token.tag_, token.pos_, spacy.explain(token.tag_))"
      ],
      "execution_count": null,
      "outputs": []
    },
    {
      "metadata": {
        "id": "McZRfcP4Oqjl"
      },
      "cell_type": "markdown",
      "source": [
        "Using spaCy’s built-in **displaCy** visualizer,The quickest way to visualize Doc is to use displacy.serve. This will spin up a simple web server and let you view the result straight from your browser. displaCy can either take a single Doc or a list of Doc objects as its first argument. This lets you construct them however you like – using any model or modifications you like.Here’s what our example sentence and its dependencies look like:"
      ]
    },
    {
      "metadata": {
        "trusted": true,
        "id": "hG2ns05FOqjl"
      },
      "cell_type": "code",
      "source": [
        "import spacy\n",
        "from spacy import displacy\n",
        "\n",
        "doc = nlp(\"Reliance is looking at buying U.K. based analytics startup for $7 billion\")\n",
        "displacy.render(doc, style=\"dep\" , jupyter=True)"
      ],
      "execution_count": null,
      "outputs": []
    },
    {
      "metadata": {
        "id": "WHhifbxYOqjl"
      },
      "cell_type": "markdown",
      "source": [
        "### 2.3 Dependency Parsing <a id=\"23\"></a> <br>\n",
        "\n",
        "Dependency parsing is the process of extracting the dependency parse of a sentence to represent its grammatical structure. It defines the dependency relationship between headwords and their dependents. The head of a sentence has no dependency and is called the root of the sentence. The verb is usually the head of the sentence. All other words are linked to the headword.\n",
        "\n",
        "The dependencies can be mapped in a directed graph representation:\n",
        "\n",
        "* Words are the nodes.\n",
        "* The grammatical relationships are the edges.\n",
        "\n",
        "Dependency parsing helps you know what role a word plays in the text and how different words relate to each other. It’s also used in shallow parsing and named entity recognition.\n",
        "\n",
        "Here’s how you can use dependency parsing to see the relationships between words:\n",
        "![](https://www.researchgate.net/profile/Michael_Ringgaard/publication/220816955/figure/fig2/AS:667852638019597@1536239885253/Dependency-Parse-Tree-with-Alignment-for-a-Sentence-with-Preposition-Modifier.png)\n",
        "Performing dependency parsing is again pretty easy in spaCy. We will use the same sentence here that we used for POS tagging:"
      ]
    },
    {
      "metadata": {
        "trusted": true,
        "id": "xHAM3vXaOqjl"
      },
      "cell_type": "code",
      "source": [
        "import spacy\n",
        "nlp = spacy.load('en_core_web_sm')\n",
        "\n",
        "# Create an nlp object\n",
        "doc = nlp(\"Reliance is looking at buying U.K. based analytics startup for $7 billion\")\n",
        "\n",
        "# Iterate over the tokens\n",
        "for token in doc:\n",
        "    # Print the token and its part-of-speech tag\n",
        "    print(token.text, \"-->\", token.dep_)"
      ],
      "execution_count": null,
      "outputs": []
    },
    {
      "metadata": {
        "id": "1qU51Vr_Oqjl"
      },
      "cell_type": "markdown",
      "source": [
        "The dependency tag ROOT denotes the main verb or action in the sentence. The other words are directly or indirectly connected to the ROOT word of the sentence. You can find out what other tags stand for by executing the code below:"
      ]
    },
    {
      "metadata": {
        "trusted": true,
        "id": "Y2q7mknIOqjl"
      },
      "cell_type": "code",
      "source": [
        "spacy.explain(\"nsubj\"), spacy.explain(\"ROOT\"), spacy.explain(\"aux\"), spacy.explain(\"advcl\"), spacy.explain(\"dobj\")"
      ],
      "execution_count": null,
      "outputs": []
    },
    {
      "metadata": {
        "id": "Mwq3ySm-Oqjl"
      },
      "cell_type": "markdown",
      "source": [
        "### 2.4 Lemmatization <a id=\"24\"></a> <br>\n",
        "\n",
        "**Lemmatization** is the process of reducing inflected forms of a word while still ensuring that the reduced form belongs to the language. This reduced form or root word is called a lemma.\n",
        "\n",
        "For example, organizes, organized and organizing are all forms of organize. Here, organize is the lemma. The inflection of a word allows you to express different grammatical categories like tense (organized vs organize), number (trains vs train), and so on. Lemmatization is necessary because it helps you reduce the inflected forms of a word so that they can be analyzed as a single item. It can also help you normalize the text.\n",
        "\n",
        "spaCy has the attribute lemma_ on the Token class. This attribute has the lemmatized form of a token:"
      ]
    },
    {
      "metadata": {
        "trusted": true,
        "id": "8-mqutgZOqjl"
      },
      "cell_type": "code",
      "source": [
        "import spacy\n",
        "nlp = spacy.load('en_core_web_sm')\n",
        "\n",
        "# Create an nlp object\n",
        "doc = nlp(\"Reliance is looking at buying U.K. based analytics startup for $7 billion\")\n",
        "\n",
        "# Iterate over the tokens\n",
        "for token in doc:\n",
        "    # Print the token and its part-of-speech tag\n",
        "    print(token.text, \"-->\", token.lemma_)"
      ],
      "execution_count": null,
      "outputs": []
    },
    {
      "metadata": {
        "id": "BUoD4to1Oqjl"
      },
      "cell_type": "markdown",
      "source": [
        "### 2.5 Sentence Boundary Detection (SBD) <a id=\"25\"></a> <br>\n",
        "\n",
        "**Sentence Boundary Detection** is the process of locating the start and end of sentences in a given text. This allows you to you divide a text into linguistically meaningful units. You’ll use these units when you’re processing your text to perform tasks such as part of speech tagging and entity extraction.\n",
        "\n",
        "In spaCy, the sents property is used to extract sentences. Here’s how you would extract the total number of sentences and the sentences for a given input text:\n"
      ]
    },
    {
      "metadata": {
        "trusted": true,
        "id": "v9hd6y7BOqjm"
      },
      "cell_type": "code",
      "source": [
        "import spacy\n",
        "nlp = spacy.load('en_core_web_sm')\n",
        "\n",
        "# Create an nlp object\n",
        "doc = nlp(\"Reliance is looking at buying U.K. based analytics startup for $7 billion.This is India.India is great\")\n",
        "\n",
        "sentences = list(doc.sents)\n",
        "len(sentences)"
      ],
      "execution_count": null,
      "outputs": []
    },
    {
      "metadata": {
        "trusted": true,
        "id": "rfvxSNW4Oqjm"
      },
      "cell_type": "code",
      "source": [
        "for sentence in sentences:\n",
        "     print (sentence)"
      ],
      "execution_count": null,
      "outputs": []
    },
    {
      "metadata": {
        "id": "z9lbZUhFOqjm"
      },
      "cell_type": "markdown",
      "source": [
        "### 2.6 Named Entity Recognition (NER) <a id=\"26\"></a> <br>\n",
        "\n",
        "A named entity is a “real-world object” that’s assigned a name – for example, a person, a country, a product or a book title. spaCy can recognize various types of named entities in a document, by asking the model for a prediction. Because models are statistical and strongly depend on the examples they were trained on, this doesn’t always work perfectly and might need some tuning later, depending on your use case.\n",
        "\n",
        "Named entities are available as the ents property of a Doc:"
      ]
    },
    {
      "metadata": {
        "trusted": true,
        "id": "E8gZ1piQOqjm"
      },
      "cell_type": "code",
      "source": [
        "import spacy\n",
        "\n",
        "nlp = spacy.load(\"en_core_web_sm\")\n",
        "doc = nlp(\"Reliance is looking at buying U.K. based analytics startup for $7 billion\")\n",
        "\n",
        "for ent in doc.ents:\n",
        "    print(ent.text, ent.start_char, ent.end_char, ent.label_)"
      ],
      "execution_count": null,
      "outputs": []
    },
    {
      "metadata": {
        "id": "jZahGokHOqjm"
      },
      "cell_type": "markdown",
      "source": []
    },
    {
      "metadata": {
        "id": "QExQvFpbOqjm"
      },
      "cell_type": "markdown",
      "source": [
        "### 2.7 Entity Detection <a id=\"27\"></a> <br>\n",
        "\n",
        "**Entity detection**, also called entity recognition, is a more advanced form of language processing that identifies important elements like places, people, organizations, and languages within an input string of text. This is really helpful for quickly extracting information from text, since you can quickly pick out important topics or indentify key sections of text.\n",
        "\n",
        "Let’s try out some entity detection using a few paragraphs from this recent article in the Washington Post. We’ll use .label to grab a label for each entity that’s detected in the text, and then we’ll take a look at these entities in a more visual format using spaCy‘s displaCy visualizer."
      ]
    },
    {
      "metadata": {
        "trusted": true,
        "id": "XBd3kUDpOqjm"
      },
      "cell_type": "code",
      "source": [
        "import spacy\n",
        "from spacy import displacy\n",
        "nlp = spacy.load(\"en_core_web_sm\")\n",
        "doc= nlp(u\"\"\"The Amazon rainforest,[a] alternatively, the Amazon Jungle, also known in English as Amazonia, is a moist broadleaf tropical rainforest in the Amazon biome that covers most of the Amazon basin of South America. This basin encompasses 7,000,000 km2 (2,700,000 sq mi), of which 5,500,000 km2 (2,100,000 sq mi) are covered by the rainforest. This region includes territory belonging to nine nations.\n",
        "\n",
        "The majority of the forest is contained within Brazil, with 60% of the rainforest, followed by Peru with 13%, Colombia with 10%, and with minor amounts in Bolivia, Ecuador, French Guiana, Guyana, Suriname, and Venezuela. Four nations have \"Amazonas\" as the name of one of their first-level administrative regions and France uses the name \"Guiana Amazonian Park\" for its rainforest protected area. The Amazon represents over half of the planet's remaining rainforests,[2] and comprises the largest and most biodiverse tract of tropical rainforest in the world, with an estimated 390 billion individual trees divided into 16,000 species.[3]\n",
        "\n",
        "Etymology\n",
        "The name Amazon is said to arise from a war Francisco de Orellana fought with the Tapuyas and other tribes. The women of the tribe fought alongside the men, as was their custom.[4] Orellana derived the name Amazonas from the Amazons of Greek mythology, described by Herodotus and Diodorus.[4]\n",
        "\n",
        "History\n",
        "See also: History of South America § Amazon, and Amazon River § History\n",
        "Tribal societies are well capable of escalation to all-out wars between tribes. Thus, in the Amazonas, there was perpetual animosity between the neighboring tribes of the Jivaro. Several tribes of the Jivaroan group, including the Shuar, practised headhunting for trophies and headshrinking.[5] The accounts of missionaries to the area in the borderlands between Brazil and Venezuela have recounted constant infighting in the Yanomami tribes. More than a third of the Yanomamo males, on average, died from warfare.[6]\"\"\")\n",
        "\n",
        "entities=[(i, i.label_, i.label) for i in doc.ents]\n",
        "entities"
      ],
      "execution_count": null,
      "outputs": []
    },
    {
      "metadata": {
        "id": "c-mq1kZcOqjm"
      },
      "cell_type": "markdown",
      "source": [
        "Using this technique, we can identify a variety of entities within the text. The spaCy documentation provides a full list of supported entity types, and we can see from the short example above that it’s able to identify a variety of different entity types, including specific locations (GPE), date-related words (DATE), important numbers (CARDINAL), specific individuals (PERSON), etc.\n",
        "\n",
        "Using displaCy we can also visualize our input text, with each identified entity highlighted by color and labeled. We’ll use style = \"ent\" to tell displaCy that we want to visualize entities here."
      ]
    },
    {
      "metadata": {
        "trusted": true,
        "id": "qAaC_cahOqjm"
      },
      "cell_type": "code",
      "source": [
        "displacy.render(doc, style = \"ent\",jupyter = True)"
      ],
      "execution_count": null,
      "outputs": []
    },
    {
      "metadata": {
        "id": "BM9jebREOqjm"
      },
      "cell_type": "markdown",
      "source": [
        "### 2.8 Similarity <a id=\"28\"></a> <br>\n",
        "\n",
        "**Similarity** is determined by comparing word vectors or “word embeddings”, multi-dimensional meaning representations of a word. Word vectors can be generated using an algorithm like word2vec and usually look like this:\n",
        "\n",
        "Spacy also provides inbuilt integration of dense, real valued vectors representing distributional similarity information.\n",
        "\n",
        "Models that come with built-in word vectors make them available as the Token.vector attribute. Doc.vector and Span.vector will default to an average of their token vectors. You can also check if a token has a vector assigned, and get the L2 norm, which can be used to normalize vectors."
      ]
    },
    {
      "metadata": {
        "trusted": true,
        "id": "G40E5xIiOqjn"
      },
      "cell_type": "code",
      "source": [
        "import spacy\n",
        "\n",
        "nlp = spacy.load(\"en_core_web_lg\")\n",
        "tokens = nlp(\"dog cat banana afskfsd\")\n",
        "\n",
        "for token in tokens:\n",
        "    print(token.text, token.has_vector, token.vector_norm, token.is_oov)"
      ],
      "execution_count": null,
      "outputs": []
    },
    {
      "metadata": {
        "id": "KQULiugLOqjn"
      },
      "cell_type": "markdown",
      "source": [
        "The words “dog”, “cat” and “banana” are all pretty common in English, so they’re part of the model’s vocabulary, and come with a vector. The word “afskfsd” on the other hand is a lot less common and out-of-vocabulary – so its vector representation consists of 300 dimensions of 0, which means it’s practically nonexistent. If your application will benefit from a large vocabulary with more vectors, you should consider using one of the larger models or loading in a full vector package, for example, en_vectors_web_lg, which includes over 1 million unique vectors.\n",
        "\n",
        "spaCy is able to compare two objects, and make a prediction of how similar they are. Predicting similarity is useful for building recommendation systems or flagging duplicates. For example, you can suggest a user content that’s similar to what they’re currently looking at, or label a support ticket as a duplicate if it’s very similar to an already existing one.\n",
        "\n",
        "Each Doc, Span and Token comes with a .similarity() method that lets you compare it with another object, and determine the similarity. Of course similarity is always subjective – whether “dog” and “cat” are similar really depends on how you’re looking at it. spaCy’s similarity model usually assumes a pretty general-purpose definition of similarity."
      ]
    },
    {
      "metadata": {
        "trusted": true,
        "id": "0dIqrPxdOqjn"
      },
      "cell_type": "code",
      "source": [
        "import spacy\n",
        "\n",
        "nlp = spacy.load(\"en_core_web_lg\")  # make sure to use larger model!\n",
        "tokens = nlp(\"dog cat banana\")\n",
        "\n",
        "for token1 in tokens:\n",
        "    for token2 in tokens:\n",
        "        print(token1.text, token2.text, token1.similarity(token2))"
      ],
      "execution_count": null,
      "outputs": []
    },
    {
      "metadata": {
        "id": "O5hdu0tJOqjn"
      },
      "cell_type": "markdown",
      "source": [
        "In this case, the model’s predictions are pretty on point. A dog is very similar to a cat, whereas a banana is not very similar to either of them. Identical tokens are obviously 100% similar to each other (just not always exactly 1.0, because of vector math and floating point imprecisions)."
      ]
    },
    {
      "metadata": {
        "id": "vstH1OnEOqjn"
      },
      "cell_type": "markdown",
      "source": [
        "### 2.9 Text Classification <a id=\"29\"></a> <br>\n",
        "\n",
        "\tAssigning categories or labels to a whole document, or parts of a document.\n",
        "    \n",
        "Text is an extremely rich source of information. Each minute, people send hundreds of millions of new emails and text messages. There’s a veritable mountain of text data waiting to be mined for insights. But data scientists who want to glean meaning from all of that text data face a challenge: it is difficult to analyze and process because it exists in unstructured form.Quite often, we may find ourselves with a set of text data that we’d like to classify according to some parameters (perhaps the subject of each snippet, for example) and text classification is what will help us to do this.\n",
        "\n",
        "The diagram below illustrates the big-picture view of what we want to do when classifying text. First, we extract the features we want from our source text (and any tags or metadata it came with), and then we feed our cleaned data into a machine learning algorithm that do the classification for us.\n",
        "![](https://www.dataquest.io/wp-content/uploads/2019/04/text-classification-python-spacy.png)\n",
        "\n",
        "We’ll start by importing the libraries we’ll need for this task. We’ve already imported spaCy, but we’ll also want pandas and scikit-learn to help with our analysis.\n",
        "\n",
        "We will use a real-world data set—this set of Amazon Alexa product reviews.\n",
        "\n",
        "This data set comes as a tab-separated file (.tsv). It has has five columns: rating, date, variation, verified_reviews, feedback.\n",
        "\n",
        "rating denotes the rating each user gave the Alexa (out of 5). date indicates the date of the review, and variation describes which model the user reviewed. verified_reviews contains the text of each review, and feedback contains a sentiment label, with 1 denoting positive sentiment (the user liked it) and 0 denoting negative sentiment (the user didn’t).\n",
        "\n",
        "This dataset has consumer reviews of amazon Alexa products like Echos, Echo Dots, Alexa Firesticks etc. What we’re going to do is develop a classification model that looks at the review text and predicts whether a review is positive or negative. Since this data set already includes whether a review is positive or negative in the feedback column, we can use those answers to train and test our model. Our goal here is to produce an accurate model that we could then use to process new user reviews and quickly determine whether they were positive or negative.\n",
        "\n",
        "Let’s start by reading the data into a pandas dataframe and then using the built-in functions of pandas to help us take a closer look at our data."
      ]
    },
    {
      "metadata": {
        "trusted": true,
        "id": "wVxqCqaZOqjn"
      },
      "cell_type": "code",
      "source": [
        "import pandas as pd\n",
        "from sklearn.feature_extraction.text import CountVectorizer,TfidfVectorizer\n",
        "from sklearn.base import TransformerMixin\n",
        "from sklearn.pipeline import Pipeline\n",
        "# Loading TSV file\n",
        "df_amazon = pd.read_csv (\"../input/amazon-alexa-reviews/amazon_alexa.tsv\", sep=\"\\t\")\n",
        "df_amazon.head()"
      ],
      "execution_count": null,
      "outputs": []
    },
    {
      "metadata": {
        "trusted": true,
        "id": "ZOZMGvZoOqjn"
      },
      "cell_type": "code",
      "source": [
        "# Shape of dataframe\n",
        "df_amazon.shape"
      ],
      "execution_count": null,
      "outputs": []
    },
    {
      "metadata": {
        "trusted": true,
        "id": "R3PUlOwZOqjn"
      },
      "cell_type": "code",
      "source": [
        "# View data information\n",
        "df_amazon.info()"
      ],
      "execution_count": null,
      "outputs": []
    },
    {
      "metadata": {
        "trusted": true,
        "id": "yBWLQUfQOqjo"
      },
      "cell_type": "code",
      "source": [
        "# Feedback Value count\n",
        "df_amazon.feedback.value_counts()"
      ],
      "execution_count": null,
      "outputs": []
    },
    {
      "metadata": {
        "id": "ziloepnTOqjo"
      },
      "cell_type": "markdown",
      "source": [
        "Let’s create a custom tokenizer function using spaCy. We’ll use this function to automatically strip information we don’t need, like stopwords and punctuation, from each review.\n",
        "\n",
        "We’ll start by importing the English models we need from spaCy, as well as Python’s string module, which contains a helpful list of all punctuation marks that we can use in string.punctuation. We’ll create variables that contain the punctuation marks and stopwords we want to remove, and a parser that runs input through spaCy‘s English module.\n",
        "\n",
        "Then, we’ll create a spacy_tokenizer() function that accepts a sentence as input and processes the sentence into tokens, performing lemmatization, lowercasing, and removing stop words. This is similar to what we did in the examples earlier in this tutorial, but now we’re putting it all together into a single function for preprocessing each user review we’re analyzing."
      ]
    },
    {
      "metadata": {
        "trusted": true,
        "id": "xyoMGJECOqjo"
      },
      "cell_type": "code",
      "source": [
        "import string\n",
        "from spacy.lang.en.stop_words import STOP_WORDS\n",
        "from spacy.lang.en import English\n",
        "\n",
        "# Create our list of punctuation marks\n",
        "punctuations = string.punctuation\n",
        "\n",
        "# Create our list of stopwords\n",
        "nlp = spacy.load('en')\n",
        "stop_words = spacy.lang.en.stop_words.STOP_WORDS\n",
        "\n",
        "# Load English tokenizer, tagger, parser, NER and word vectors\n",
        "parser = English()\n",
        "\n",
        "# Creating our tokenizer function\n",
        "def spacy_tokenizer(sentence):\n",
        "    # Creating our token object, which is used to create documents with linguistic annotations.\n",
        "    mytokens = parser(sentence)\n",
        "\n",
        "    # Lemmatizing each token and converting each token into lowercase\n",
        "    mytokens = [ word.lemma_.lower().strip() if word.lemma_ != \"-PRON-\" else word.lower_ for word in mytokens ]\n",
        "\n",
        "    # Removing stop words\n",
        "    mytokens = [ word for word in mytokens if word not in stop_words and word not in punctuations ]\n",
        "\n",
        "    # return preprocessed list of tokens\n",
        "    return mytokens"
      ],
      "execution_count": null,
      "outputs": []
    },
    {
      "metadata": {
        "id": "tMvWaRZzOqjo"
      },
      "cell_type": "markdown",
      "source": [
        "To further clean our text data, we’ll also want to create a custom transformer for removing initial and end spaces and converting text into lower case. Here, we will create a custom predictors class wich inherits the TransformerMixin class. This class overrides the transform, fit and get_parrams methods. We’ll also create a clean_text() function that removes spaces and converts text into lowercase."
      ]
    },
    {
      "metadata": {
        "trusted": true,
        "id": "h_VmgXeeOqjo"
      },
      "cell_type": "code",
      "source": [
        "# Custom transformer using spaCy\n",
        "class predictors(TransformerMixin):\n",
        "    def transform(self, X, **transform_params):\n",
        "        # Cleaning Text\n",
        "        return [clean_text(text) for text in X]\n",
        "\n",
        "    def fit(self, X, y=None, **fit_params):\n",
        "        return self\n",
        "\n",
        "    def get_params(self, deep=True):\n",
        "        return {}\n",
        "\n",
        "# Basic function to clean the text\n",
        "def clean_text(text):\n",
        "    # Removing spaces and converting text into lowercase\n",
        "    return text.strip().lower()"
      ],
      "execution_count": null,
      "outputs": []
    },
    {
      "metadata": {
        "id": "50f5g56GOqjo"
      },
      "cell_type": "markdown",
      "source": [
        "When we classify text, we end up with text snippets matched with their respective labels. But we can’t simply use text strings in our machine learning model; we need a way to convert our text into something that can be represented numerically just like the labels (1 for positive and 0 for negative) are. Classifying text in positive and negative labels is called sentiment analysis. So we need a way to represent our text numerically.\n",
        "\n",
        "One tool we can use for doing this is called **Bag of Words**. **BoW** converts text into the matrix of occurrence of words within a given document. It focuses on whether given words occurred or not in the document, and it generates a matrix that we might see referred to as a BoW matrix or a document term matrix.\n",
        "\n",
        "We can generate a BoW matrix for our text data by using scikit-learn‘s CountVectorizer. In the code below, we’re telling CountVectorizer to use the custom spacy_tokenizer function we built as its tokenizer, and defining the ngram range we want.\n",
        "\n",
        "N-grams are combinations of adjacent words in a given text, where n is the number of words that incuded in the tokens. for example, in the sentence “Who will win the football world cup in 2022?” unigrams would be a sequence of single words such as “who”, “will”, “win” and so on. Bigrams would be a sequence of 2 contiguous words such as “who will”, “will win”, and so on. So the ngram_range parameter we’ll use in the code below sets the lower and upper bounds of the our ngrams (we’ll be using unigrams). Then we’ll assign the ngrams to bow_vector."
      ]
    },
    {
      "metadata": {
        "trusted": true,
        "id": "zrxY9qQCOqjo"
      },
      "cell_type": "code",
      "source": [
        "bow_vector = CountVectorizer(tokenizer = spacy_tokenizer, ngram_range=(1,1))"
      ],
      "execution_count": null,
      "outputs": []
    },
    {
      "metadata": {
        "id": "SaXPFwwNOqjo"
      },
      "cell_type": "markdown",
      "source": [
        "We’ll also want to look at the TF-IDF (Term Frequency-Inverse Document Frequency) for our terms. This sounds complicated, but it’s simply a way of normalizing our Bag of Words(BoW) by looking at each word’s frequency in comparison to the document frequency. In other words, it’s a way of representing how important a particular term is in the context of a given document, based on how many times the term appears and how many other documents that same term appears in. The higher the TF-IDF, the more important that term is to that document.\n",
        "\n",
        "We can represent this with the following mathematical equation:\n",
        "\n",
        "idf(W) = log(#documents/#documents containing W)\n",
        "\n",
        "Of course, we don’t have to calculate that by hand! We can generate TF-IDF automatically using scikit-learn‘s TfidfVectorizer. Again, we’ll tell it to use the custom tokenizer that we built with spaCy, and then we’ll assign the result to the variable tfidf_vector."
      ]
    },
    {
      "metadata": {
        "trusted": true,
        "id": "Mf5TEZCGOqjo"
      },
      "cell_type": "code",
      "source": [
        "tfidf_vector = TfidfVectorizer(tokenizer = spacy_tokenizer)"
      ],
      "execution_count": null,
      "outputs": []
    },
    {
      "metadata": {
        "id": "o8-IZGpxOqjp"
      },
      "cell_type": "markdown",
      "source": [
        "We’re trying to build a classification model, but we need a way to know how it’s actually performing. Dividing the dataset into a training set and a test set the tried-and-true method for doing this. We’ll use half of our data set as our training set, which will include the correct answers. Then we’ll test our model using the other half of the data set without giving it the answers, to see how accurately it performs."
      ]
    },
    {
      "metadata": {
        "trusted": true,
        "id": "sQb7jZ-YOqjp"
      },
      "cell_type": "code",
      "source": [
        "from sklearn.model_selection import train_test_split\n",
        "\n",
        "X = df_amazon['verified_reviews'] # the features we want to analyze\n",
        "ylabels = df_amazon['feedback'] # the labels, or answers, we want to test against\n",
        "\n",
        "X_train, X_test, y_train, y_test = train_test_split(X, ylabels, test_size=0.3)"
      ],
      "execution_count": null,
      "outputs": []
    },
    {
      "metadata": {
        "id": "n9T6e9DzOqjp"
      },
      "cell_type": "markdown",
      "source": [
        "Now that we’re all set up, it’s time to actually build our model! We’ll start by importing the LogisticRegression module and creating a LogisticRegression classifier object.\n",
        "\n",
        "Then, we’ll create a pipeline with three components: a cleaner, a vectorizer, and a classifier. The cleaner uses our predictors class object to clean and preprocess the text. The vectorizer uses countvector objects to create the bag of words matrix for our text. The classifier is an object that performs the logistic regression to classify the sentiments.\n",
        "\n",
        "Once this pipeline is built, we’ll fit the pipeline components using fit()."
      ]
    },
    {
      "metadata": {
        "trusted": true,
        "id": "uvx-LoAsOqjp"
      },
      "cell_type": "code",
      "source": [
        "# Logistic Regression Classifier\n",
        "from sklearn.linear_model import LogisticRegression\n",
        "classifier = LogisticRegression()\n",
        "\n",
        "# Create pipeline using Bag of Words\n",
        "pipe = Pipeline([(\"cleaner\", predictors()),\n",
        "                 ('vectorizer', bow_vector),\n",
        "                 ('classifier', classifier)])\n",
        "\n",
        "# model generation\n",
        "pipe.fit(X_train,y_train)"
      ],
      "execution_count": null,
      "outputs": []
    },
    {
      "metadata": {
        "id": "IwAT5DKoOqjp"
      },
      "cell_type": "markdown",
      "source": [
        "Let’s take a look at how our model actually performs! We can do this using the metrics module from scikit-learn. Now that we’ve trained our model, we’ll put our test data through the pipeline to come up with predictions. Then we’ll use various functions of the metrics module to look at our model’s accuracy, precision, and recall.\n",
        "\n",
        "* **Accuracy** refers to the percentage of the total predictions our model makes that are completely correct.\n",
        "* **Precision** describes the ratio of true positives to true positives plus false positives in our predictions.\n",
        "* **Recall** describes the ratio of true positives to true positives plus false negatives in our predictions."
      ]
    },
    {
      "metadata": {
        "trusted": true,
        "id": "cIrUGV5fOqjp"
      },
      "cell_type": "code",
      "source": [
        "from sklearn import metrics\n",
        "# Predicting with a test dataset\n",
        "predicted = pipe.predict(X_test)\n",
        "\n",
        "# Model Accuracy\n",
        "print(\"Logistic Regression Accuracy:\",metrics.accuracy_score(y_test, predicted))\n",
        "print(\"Logistic Regression Precision:\",metrics.precision_score(y_test, predicted))\n",
        "print(\"Logistic Regression Recall:\",metrics.recall_score(y_test, predicted))"
      ],
      "execution_count": null,
      "outputs": []
    },
    {
      "metadata": {
        "id": "60iUlAW4Oqjp"
      },
      "cell_type": "markdown",
      "source": [
        "The above model correctly identified a comment’s sentiment 94.1% of the time. When it predicted a review was positive, that review was actually positive 95% of the time. When handed a positive review, our model identified it as positive 98.6% of the time\n",
        "\n",
        "### 2.10 Training <a id=\"210\"></a> <br>\n",
        "\n",
        "spaCy’s models are statistical and every “decision” they make – for example, which part-of-speech tag to assign, or whether a word is a named entity – is a prediction. This prediction is based on the examples the model has seen during training. To train a model, you first need training data – examples of text, and the labels you want the model to predict. This could be a part-of-speech tag, a named entity or any other information.\n",
        "\n",
        "The model is then shown the unlabelled text and will make a prediction. Because we know the correct answer, we can give the model feedback on its prediction in the form of an error gradient of the loss function that calculates the difference between the training example and the expected output. The greater the difference, the more significant the gradient and the updates to our model.\n",
        "\n",
        "![](https://spacy.io/training-73950e71e6b59678754a87d6cf1481f9.svg)\n",
        "\n",
        "When training a model, we don’t just want it to memorize our examples – we want it to come up with a theory that can be generalized across other examples. After all, we don’t just want the model to learn that this one instance of “Amazon” right here is a company – we want it to learn that “Amazon”, in contexts like this, is most likely a company. That’s why the training data should always be representative of the data we want to process. A model trained on Wikipedia, where sentences in the first person are extremely rare, will likely perform badly on Twitter. Similarly, a model trained on romantic novels will likely perform badly on legal text."
      ]
    },
    {
      "metadata": {
        "id": "Lf9xH5VdOqjp"
      },
      "cell_type": "markdown",
      "source": [
        "### 2.11 Serialization <a id=\"211\"></a> <br>\n",
        "\n",
        "If you’ve been modifying the pipeline, vocabulary, vectors and entities, or made updates to the model, you’ll eventually want to save your progress – for example, everything that’s in your nlp object. This means you’ll have to translate its contents and structure into a format that can be saved, like a file or a byte string. This process is called serialization. spaCy comes with built-in serialization methods and supports the Pickle protocol.\n",
        "\n",
        "## 3. References <a id=\"3\"></a> <br>\n",
        "\n",
        "* https://medium.com/@ashiqgiga07/rule-based-matching-with-spacy-295b76ca2b68\n",
        "* https://spacy.io/usage/spacy-101#whats-spacy\n",
        "* https://www.analyticsvidhya.com/blog/2017/04/natural-language-processing-made-easy-using-spacy-%E2%80%8Bin-python/\n",
        "* https://www.analyticsvidhya.com/blog/2020/03/spacy-tutorial-learn-natural-language-processing/\n",
        "* https://www.dataquest.io/blog/tutorial-text-classification-in-python-using-spacy/\n",
        "\n",
        "## 4. Conclusion <a id=\"4\"></a> <br>\n",
        "I hope you have a good understanding on how to use spaCy by now .\n",
        "## Please do leave your comments /suggestions and if you like this notebook please do <font color='red'>UPVOTE\n"
      ]
    },
    {
      "metadata": {
        "_uuid": "c902b800de2095c8a86d923086f7e91d33113184",
        "id": "bL5e8c2uOqjp"
      },
      "cell_type": "markdown",
      "source": [
        "![](https://i.ytimg.com/vi/AKcxEfz-EoI/maxresdefault.jpg)<a id=\"TOC3\"></a> <br>\n",
        "## Table of Contents\n",
        "   - <a href='#01'>Natural Language Processing using NLTK</a>\n",
        "        - <a href='#1'>1. Introduction to NLTK</a>\n",
        "        - <a href='#2'>2. Tokenizing Words & Sentences</a>\n",
        "        - <a href='#3'>3. Stopwords</a>\n",
        "        - <a href='#4'>4. Stemming Words</a>\n",
        "        - <a href='#5'>5. Lemmatization</a>\n",
        "        - <a href='#6'>6. Part of Speech Tagging</a>\n",
        "        - <a href='#7'>7. Chunking</a>\n",
        "        - <a href='#8'>8. Chinking</a>\n",
        "        - <a href='#9'>9. Named Entity Recognition</a>\n",
        "        - <a href='#10'>10. The Corpora</a>\n",
        "        \n",
        "Welcome to a Natural Language Processing tutorial using NLTK.\n",
        "\n",
        "## What is Natural Language Processing(NLP) ?\n",
        "\n",
        "\n",
        "Let us understand the concept of NLP in detail\n",
        "\n",
        "Natural Language Processing, or NLP for short, is broadly defined as the automatic manipulation of natural language, like speech and text, by software.\n",
        "\n",
        "The study of natural language processing has been around for more than 50 years and grew out of the field of linguistics with the rise of computers.\n",
        "\n",
        "Before we get into details of NLP first let us try to answer the below question\n",
        "\n",
        "- What natural language is and how it is different from other types of data?\n",
        "\n",
        "Natural language refers to the way we, humans, communicate with each other namely speech and text.We are surrounded by text.\n",
        "Think about how much text you see each day:\n",
        "\n",
        "- Signs\n",
        "- Menus\n",
        "- Email\n",
        "- SMS\n",
        "- Web Pages\n",
        "\n",
        "and so much more…\n",
        "\n",
        "The list is endless.\n",
        "\n",
        "Now think about speech.We may speak to each other, as a species, more than we write. It may even be easier to learn to speak than to write.Voice and text are how we communicate with each other.Given the importance of this type of data, we must have methods to understand and reason about natural language, just like we do for other types of data.\n",
        "\n",
        "Now lets get into details of this tutorial."
      ]
    },
    {
      "metadata": {
        "_uuid": "bd4b785747139b86ae601b32ec114888547bd8e6",
        "id": "72uj9WwsOqjq"
      },
      "cell_type": "markdown",
      "source": []
    },
    {
      "metadata": {
        "_uuid": "8e0ef2d48277348836fb9c4432ed6048da6aa9d3",
        "id": "hAFI9ldpOqjq"
      },
      "cell_type": "markdown",
      "source": [
        "### <a id='01'>Natural Language Processing using NLTK</a>\n",
        "\n",
        "#### <a id='1'>1. Introduction to NLTK</a>\n",
        "\n",
        "The NLTK module is a massive tool kit, aimed at helping with the entire Natural Language Processing (NLP) methodology. NLTK will aid with everything from splitting sentences from paragraphs, splitting up words, recognizing the part of speech of those words, highlighting the main subjects, and then even with helping machine to understand what the text is all about. In this tutorial, we're going to tackle the field of opinion mining, or sentiment analysis.\n",
        "\n",
        "In our path to learning how to do sentiment analysis with NLTK, we're going to learn the following:\n",
        "\n",
        "- Tokenizing - Splitting sentences and words from the body of text.\n",
        "- Part of Speech tagging\n",
        "- Machine Learning with the Naive Bayes classifier\n",
        "- How to tie in Scikit-learn (sklearn) with NLTK\n",
        "- Training classifiers with datasets\n",
        "- Performing live, streaming, sentiment analysis with Twitter.\n",
        "\n",
        "...and much more.\n",
        "\n",
        "In order to get started, you are going to need the NLTK module, as well as Python."
      ]
    },
    {
      "metadata": {
        "trusted": true,
        "_uuid": "9554da5fb5b9fde48c12ecea076a97f11bc4cba8",
        "id": "3fPa8nC5Oqjq"
      },
      "cell_type": "code",
      "source": [
        "import nltk"
      ],
      "execution_count": null,
      "outputs": []
    },
    {
      "metadata": {
        "_uuid": "f12fe40a9c74a53eaa592dd7e01d37b1ace9feac",
        "id": "IKaXux5MOqjq"
      },
      "cell_type": "markdown",
      "source": [
        "#### <a id='2'>2. Tokenizing Words & Sentences</a>\n",
        "\n",
        "Tokenization is the process of breaking up the given text into units called tokens. The tokens may be words or number or punctuation mark or even sentences. Tokenization does this task by locating word boundaries. Ending point of a word and beginning of the next word is called word boundaries. Tokenization is also known as word segmentation.\n",
        "\n",
        "- <b>Challenges in tokenization</b> depends on the type of language. Languages such as English and French are referred to as space-delimited as most of the words are separated from each other by white spaces. Languages such as Chinese and Thai are referred to as unsegmented as words do not have clear boundaries. Tokenising unsegmented language sentences requires additional lexical and morphological information. Tokenization is also affected by writing system and the typographical structure of the words. Structures of languges can be grouped into three categories:\n",
        "\n",
        "    - Isolating: Words do not divide into smaller units. Example: Mandarin Chinese\n",
        "\n",
        "    - Agglutinative: Words divide into smaller units. Example: Japanese, Tamil\n",
        "\n",
        "    - Inflectional: Boundaries between morphemes are not clear and ambiguous in terms of grammatical meaning. Example: Latin.\n",
        "\n",
        "\n",
        "Let us understand some more basic terminology.\n",
        "\n",
        "- What is Corpora?\n",
        "\n",
        "It is a body of text e.g Medical journal, Presidential speech, English language\n",
        "\n",
        "- What is Lexicon?\n",
        "\n",
        "Lexicon is nothing but words and their means .E.g Investor speak vs. Regular English speak\n",
        "\n",
        "i.e Investor talk about \"BULL\" as some stock going positive in the market which bullish as to the regular word of \"BULL\" describing the usual animal.\n",
        "\n",
        "    \n",
        "So in simple for now let us look at Word Tokenizer and Sentence Tokenizer using NLTK."
      ]
    },
    {
      "metadata": {
        "trusted": true,
        "_uuid": "8bda89077120dc063d30d14a389223a4f22d7961",
        "id": "feEm6cOtOqjq"
      },
      "cell_type": "code",
      "source": [
        "from nltk.tokenize import sent_tokenize,word_tokenize"
      ],
      "execution_count": null,
      "outputs": []
    },
    {
      "metadata": {
        "trusted": true,
        "_uuid": "adf585b5aacb9fb961afd9bc12bf0fc5d0c56e44",
        "_kg_hide-input": true,
        "id": "JgMqRVhWOqjq"
      },
      "cell_type": "code",
      "source": [
        "example_text = \"Hi , How are you doing today? You got a nice job at IBM. Wow thats an awesome car. Weather is great.\"\n",
        "print(sent_tokenize(example_text))"
      ],
      "execution_count": null,
      "outputs": []
    },
    {
      "metadata": {
        "_uuid": "31304a934df65807ad390c6332e4f7f94d7c1ddc",
        "id": "xqbapsO0Oqjq"
      },
      "cell_type": "markdown",
      "source": [
        "As you can see that sentence tokenizer did split the above example text into seperate sentences.Now let us look at word tokenizer below"
      ]
    },
    {
      "metadata": {
        "trusted": true,
        "_uuid": "bb6b7103d2d600b10c4e806d46897280b979ac91",
        "id": "qznEx0eSOqjq"
      },
      "cell_type": "code",
      "source": [
        "print(word_tokenize(example_text))"
      ],
      "execution_count": null,
      "outputs": []
    },
    {
      "metadata": {
        "_uuid": "4b1d74555166094c64b248945a8ecc0d2446977e",
        "id": "72cRUvgTOqjr"
      },
      "cell_type": "markdown",
      "source": [
        "As you can see that word tokenizer did split the above example text into seperate words."
      ]
    },
    {
      "metadata": {
        "_uuid": "3b8d43a84027fd860b2ede056f23a7661a4ddbba",
        "id": "Oq_zk2RnOqjr"
      },
      "cell_type": "markdown",
      "source": [
        "#### <a id='3'>3. Stopwords</a>\n",
        "\n",
        "Stop words are natural language words which have very little meaning, such as \"and\", \"the\", \"a\", \"an\", and similar words.\n",
        "\n",
        "Basically during the pre processing of natural language text we eliminate the stopwords as they are redundant and do not convey any meaning insight in the data."
      ]
    },
    {
      "metadata": {
        "trusted": true,
        "_uuid": "dbbfc1a7c0b3a870dba5302b6c7804501ea6f0bb",
        "id": "NylG-8mjOqjr"
      },
      "cell_type": "code",
      "source": [
        "from nltk.corpus import stopwords"
      ],
      "execution_count": null,
      "outputs": []
    },
    {
      "metadata": {
        "_uuid": "1af5ee7dad30fef9a758d97bd415fc08480d75e9",
        "id": "Um5eTOBvOqjr"
      },
      "cell_type": "markdown",
      "source": [
        "Now let set the stopwords for english language.Let us see what are all the stopwords in english"
      ]
    },
    {
      "metadata": {
        "trusted": true,
        "_uuid": "cce9c2e27c871128d3d0c7eabb59a3d52b4d3d95",
        "id": "Bgfx5Q7pOqjr"
      },
      "cell_type": "code",
      "source": [
        "stop_words = set(stopwords.words(\"english\"))\n",
        "print(stop_words)"
      ],
      "execution_count": null,
      "outputs": []
    },
    {
      "metadata": {
        "_uuid": "2e0fe0fb12753330bd180deafe380acbeaf1455c",
        "id": "e2THnLA6Oqjr"
      },
      "cell_type": "markdown",
      "source": [
        "Now let us tokenize the sample text and filter the sentence by removing the stopwords from it ."
      ]
    },
    {
      "metadata": {
        "trusted": true,
        "_uuid": "3fa808238a54f04c1315d099f22cc34526673aa7",
        "id": "6Cye82lcOqjr"
      },
      "cell_type": "code",
      "source": [
        "example_text = \"Hi Mr.Pavan , How are you doing today?. Cool you got a nice job at IBM. Wow thats an awesome car. Weather is great.\"\n",
        "words = word_tokenize(example_text)\n",
        "filtered_sentence = []\n",
        "for w in words:\n",
        "    if w not in stop_words:\n",
        "        filtered_sentence.append(w)\n",
        "print(filtered_sentence)"
      ],
      "execution_count": null,
      "outputs": []
    },
    {
      "metadata": {
        "_uuid": "9021770a8f9670b94cd00f3278867d7cd2a7821b",
        "id": "yR_cFFg7Oqjr"
      },
      "cell_type": "markdown",
      "source": [
        "As you can see from above thats how we can filter out the stopwords from a given content and further process the data ."
      ]
    },
    {
      "metadata": {
        "_uuid": "4665a815827acd54856b9067311e924dd42a6dfc",
        "id": "NsedKK7kOqjr"
      },
      "cell_type": "markdown",
      "source": [
        "#### <a id='4'>4. Stemming Words</a>\n",
        "![](https://qph.fs.quoracdn.net/main-qimg-250c86c2671ae3f4c4ad13191570f036)\n",
        "Stemming is the process of reducing infected or derived words to their word stem,base or root form. It basically affixes to suffixes and prefixes or to the roots of words known as a lemma.It is also a preprocessing step in natural language processing.\n",
        "\n",
        "Examples: Words like\n",
        "- organise, organising ,organisation the root of its stem is organis.\n",
        "- intelligence,intelligently the root of its stem is intelligen\n",
        "\n",
        "So stemming produces intermediate representation of the word which may not have any meaning.In this case \"intelligen\" has no meaning.\n",
        "\n",
        "The idea of stemming is a sort of normalizing method. Many variations of words carry the same meaning, other than when tense is involved.\n",
        "\n",
        "The reason why we stem is to shorten the lookup, and normalize sentences.\n",
        "\n",
        "One of the most popular stemming algorithms is the Porter stemmer, which has been around since 1979.\n",
        "\n",
        "First, we're going to grab and define our stemmer:"
      ]
    },
    {
      "metadata": {
        "trusted": true,
        "_uuid": "596c86a0377095d5bf56d0032f71b46c8ffce043",
        "id": "t1jAV_rEOqjr"
      },
      "cell_type": "code",
      "source": [
        "from nltk.stem import PorterStemmer"
      ],
      "execution_count": null,
      "outputs": []
    },
    {
      "metadata": {
        "trusted": true,
        "_uuid": "5fe8341cc376c10e8459beb498d6aacdb1d15abd",
        "id": "wPDOiTk_Oqjs"
      },
      "cell_type": "code",
      "source": [
        "txt = \"John is an intelligent individual.He intelligently does smart work. He is a top performer in the company.\"\n",
        "sentences = sent_tokenize(txt)\n",
        "stemmer = PorterStemmer()\n",
        "new_sentence = []\n",
        "for i in range(len(sentences)):\n",
        "    words = word_tokenize(sentences[i])\n",
        "    words = [stemmer.stem(word) for word in words]\n",
        "    new_sentence.append(' '.join(words))\n",
        "print(new_sentence)"
      ],
      "execution_count": null,
      "outputs": []
    },
    {
      "metadata": {
        "_uuid": "2bde47d7f80f643c42f32ac068bd03e0fd734f3e",
        "id": "7dx0MVUlOqjs"
      },
      "cell_type": "markdown",
      "source": [
        "As you can see above the word \"intellig\" and it confirms that stemming process is complete. Now let us look at Lemmatization"
      ]
    },
    {
      "metadata": {
        "_uuid": "7d2fd4fedec70645eeb47627ff21b80b6513245d",
        "id": "pyRs4yAXOqjs"
      },
      "cell_type": "markdown",
      "source": [
        "#### <a id='5'>5. Lemmatization</a>\n",
        "![](https://programmersought.com/images/520/63a8d21995e4da9d85a7ff94783519f0.png)\n",
        "It is same as stemming process but the intermediate representation/root has a meaning.It is also a preprocessing step in natural language processing.\n",
        "\n",
        "Examples: Words like\n",
        "- going ,goes,gone - when we do lemmatization we get \"go\"\n",
        "- intelligence,intelligently - when we do lemmatization we get \"intelligent\".\n",
        "\n",
        "So lemmatization produces intermediate representation of the word which has a meaning.In this case \"intelligent\" has meaning."
      ]
    },
    {
      "metadata": {
        "trusted": true,
        "_uuid": "37966e4ac6c807007285c01079c7310f22c36351",
        "id": "GBtDiI2BOqjs"
      },
      "cell_type": "code",
      "source": [
        "from nltk.stem import WordNetLemmatizer"
      ],
      "execution_count": null,
      "outputs": []
    },
    {
      "metadata": {
        "trusted": true,
        "_uuid": "a30461e0972d50a288b4b862e9bae11815a8f82c",
        "id": "RQV5iVe_Oqjs"
      },
      "cell_type": "code",
      "source": [
        "txt = \"John is an intelligent individual.He intelligently does smart work. He is a top performer in the company.\"\n",
        "sentences = sent_tokenize(txt)\n",
        "lemmtizer = WordNetLemmatizer()\n",
        "new__lemmatize_sentence = []\n",
        "for i in range(len(sentences)):\n",
        "    words = word_tokenize(sentences[i])\n",
        "    words = [lemmtizer.lemmatize(word) for word in words]\n",
        "    new__lemmatize_sentence.append(' '.join(words))\n",
        "print(new__lemmatize_sentence)"
      ],
      "execution_count": null,
      "outputs": []
    },
    {
      "metadata": {
        "_uuid": "579dd99785fffd81087e1a5d106b6dd08b8e4785",
        "id": "WuqHirvjOqjs"
      },
      "cell_type": "markdown",
      "source": [
        "In summary let us see the differences between Lemmatization and Stemming\n",
        "![](http://https://hackernoon.com/hn-images/1*ND0lHJj2rbcmYQm-z6LO1Q.png)\n"
      ]
    },
    {
      "metadata": {
        "_uuid": "a89e799efeadaffc210d92958bc7a3637239dc89",
        "id": "w5BEhRgjOqjs"
      },
      "cell_type": "markdown",
      "source": [
        "#### <a id='6'>6. Part of Speech Tagging</a>\n",
        "\n",
        "One of the more powerful aspects of the NLTK is the Part of Speech tagging that it can do. This means labeling words in a sentence as nouns, adjectives, verbs...etc. Even more impressive, it also labels by tense, and more. Here's a list of the tags, what they mean, and some examples:\n",
        "\n",
        "##### POS tag list:\n",
        "\n",
        "- CC\tcoordinating conjunction\n",
        "- CD\tcardinal digit\n",
        "- DT\tdeterminer\n",
        "- EX\texistential there (like: \"there is\" ... think of it like \"there exists\")\n",
        "- FW\tforeign word\n",
        "- IN\tpreposition/subordinating conjunction\n",
        "- JJ\tadjective\t'big'\n",
        "- JJR\tadjective, comparative\t'bigger'\n",
        "- JJS\tadjective, superlative\t'biggest'\n",
        "- LS\tlist marker\t1)\n",
        "- MD\tmodal\tcould, will\n",
        "- NN\tnoun, singular 'desk'\n",
        "- NNS\tnoun plural\t'desks'\n",
        "- NNP\tproper noun, singular\t'Harrison'\n",
        "- NNPS\tproper noun, plural\t'Americans'\n",
        "- PDT\tpredeterminer\t'all the kids'\n",
        "- POS\tpossessive ending\tparent\\'s\n",
        "- PRP\tpersonal pronoun\tI, he, she\n",
        "- PRPdollar\tpossessive pronoun\tmy, his, hers\n",
        "- RB\tadverb\tvery, silently,\n",
        "- RBR\tadverb, comparative\tbetter\n",
        "- RBS\tadverb, superlative\tbest\n",
        "- RP\tparticle\tgive up\n",
        "- TO\tto\tgo 'to' the store.\n",
        "- UH\tinterjection\terrrrrrrrm\n",
        "- VB\tverb, base form\ttake\n",
        "- VBD\tverb, past tense\ttook\n",
        "- VBG\tverb, gerund/present participle\ttaking\n",
        "- VBN\tverb, past participle\ttaken\n",
        "- VBP\tverb, sing. present, non-3d\ttake\n",
        "- VBZ\tverb, 3rd person sing. present\ttakes\n",
        "- WDT\twh-determiner\twhich\n",
        "- WP\twh-pronoun\twho, what\n",
        "- WPdollar\tpossessive wh-pronoun\twhose\n",
        "- WRB\twh-abverb\twhere, when\n",
        "\n",
        " Now let us use a  new sentence tokenizer, called the PunktSentenceTokenizer. This tokenizer is capable of unsupervised machine learning, so we can actually train it on any body of text that we use."
      ]
    },
    {
      "metadata": {
        "trusted": true,
        "_uuid": "040b63f6dabf4530c64c4223b7bb3cf5c9b50838",
        "id": "3AljMR9OOqjs"
      },
      "cell_type": "code",
      "source": [
        "from nltk.tokenize import PunktSentenceTokenizer\n",
        "# Now, let's create our training and testing data:\n",
        "train_txt=\"Crocodiles (subfamily Crocodylinae) or true crocodiles are large aquatic reptiles that live throughout the tropics in Africa, Asia, the Americas and Australia. Crocodylinae, all of whose members are considered true crocodiles, is classified as a biological subfamily. A broader sense of the term crocodile, Crocodylidae that includes Tomistoma, is not used in this article. The term crocodile here applies to only the species within the subfamily of Crocodylinae. The term is sometimes used even more loosely to include all extant members of the order Crocodilia, which includes the alligators and caimans (family Alligatoridae), the gharial and false gharial (family Gavialidae), and all other living and fossil Crocodylomorpha.\"\n",
        "sample_text =\"Crocodiles are large aquatic reptiles which are carnivorous.Allegators belong to this same reptile species\"\n",
        "# Next, we can train the Punkt tokenizer like:\n",
        "cust_tokenizer = PunktSentenceTokenizer(train_txt)\n",
        "# Then we can actually tokenize, using:\n",
        "tokenized = cust_tokenizer.tokenize(sample_text)"
      ],
      "execution_count": null,
      "outputs": []
    },
    {
      "metadata": {
        "_uuid": "758868c2e960c04578f5e95179b4e61d7ab5b452",
        "id": "QQkMKO6wOqjs"
      },
      "cell_type": "markdown",
      "source": [
        "Now we can finish up this part of speech tagging script by creating a function that will run through and tag all of the parts of speech per sentence like so:"
      ]
    },
    {
      "metadata": {
        "trusted": true,
        "_uuid": "ea9dfa6cf53be515c5923d88f93e87fa3d5852a9",
        "id": "kEQL5iIhOqjt"
      },
      "cell_type": "code",
      "source": [
        "print(\"Speech Tagging Output\")\n",
        "def process_text():\n",
        "    try:\n",
        "        for i in tokenized:\n",
        "            words = nltk.word_tokenize(i)\n",
        "            tagged = nltk.pos_tag(words)\n",
        "            print(tagged)\n",
        "\n",
        "    except Exception as e:\n",
        "        print(str(e))\n",
        "\n",
        "process_text()"
      ],
      "execution_count": null,
      "outputs": []
    },
    {
      "metadata": {
        "_uuid": "21a0b53a3a3fc76d7b587ef45eb1c2e655d246bc",
        "id": "GPIiFmD6Oqjt"
      },
      "cell_type": "markdown",
      "source": [
        "#### <a id='7'>7. Chunking</a>\n",
        "\n",
        "Now that we know the parts of speech, we can do what is called chunking, and group words into hopefully meaningful chunks. One of the main goals of chunking is to group into what are known as \"noun phrases.\" These are phrases of one or more words that contain a noun, maybe some descriptive words, maybe a verb, and maybe something like an adverb. The idea is to group nouns with the words that are in relation to them.\n",
        "\n",
        "In order to chunk, we combine the part of speech tags with regular expressions. Mainly from regular expressions, we are going to utilize the following:\n",
        "\n",
        "\"+\" = match 1 or more\n",
        "\n",
        "\"?\" = match 0 or 1 repetitions.\n",
        "\n",
        "\"*\" = match 0 or MORE repetitions\t  \n",
        "\n",
        "\".\" = Any character except a new line\n",
        "\n",
        "The last things to note is that the part of speech tags are denoted with the \"<\" and \">\" and we can also place regular expressions within the tags themselves, so account for things like \"all nouns\" (<N.*>)\n",
        "\n",
        "Let us take the same code from the above Speech Tagging section and modify it to include chunking for noun plural (NNS) and adjective (JJ)"
      ]
    },
    {
      "metadata": {
        "trusted": true,
        "_uuid": "de9380cea9e1d9a803fa4eb7f704960d4ec0f3d1",
        "id": "gUsx7j2sOqjt"
      },
      "cell_type": "code",
      "source": [
        "from nltk.tokenize import PunktSentenceTokenizer\n",
        "\n",
        "# Now, let's create our training and testing data:\n",
        "train_txt=\"Crocodiles (subfamily Crocodylinae) or true crocodiles are large aquatic reptiles that live throughout the tropics in Africa, Asia, the Americas and Australia. Crocodylinae, all of whose members are considered true crocodiles, is classified as a biological subfamily. A broader sense of the term crocodile, Crocodylidae that includes Tomistoma, is not used in this article. The term crocodile here applies to only the species within the subfamily of Crocodylinae. The term is sometimes used even more loosely to include all extant members of the order Crocodilia, which includes the alligators and caimans (family Alligatoridae), the gharial and false gharial (family Gavialidae), and all other living and fossil Crocodylomorpha.\"\n",
        "sample_text =\"Crocodiles are large aquatic reptiles which are carnivorous.Allegators belong to this same reptile species\"\n",
        "\n",
        "# Next, we can train the Punkt tokenizer like:\n",
        "cust_tokenizer = PunktSentenceTokenizer(train_txt)\n",
        "\n",
        "# Then we can actually tokenize, using:\n",
        "\n",
        "tokenized = cust_tokenizer.tokenize(sample_text)\n",
        "print(\"Chunked Output\")\n",
        "def process_text():\n",
        "    try:\n",
        "        for i in tokenized:\n",
        "            words = nltk.word_tokenize(i)\n",
        "            tagged = nltk.pos_tag(words)\n",
        "            chunkGram = r\"\"\"Chunk:{<NNS.?>*<JJ>+}\"\"\"\n",
        "            chunkParser = nltk.RegexpParser(chunkGram)\n",
        "            chunked = chunkParser.parse(tagged)\n",
        "            #chunked.draw()\n",
        "            print(chunked)\n",
        "\n",
        "    except Exception as e:\n",
        "        print(str(e))\n",
        "\n",
        "process_text()"
      ],
      "execution_count": null,
      "outputs": []
    },
    {
      "metadata": {
        "_uuid": "d8c37bf1a24d25c79701fa5030c0858b9de28f60",
        "id": "rXu4Ct8POqjt"
      },
      "cell_type": "markdown",
      "source": [
        "#### <a id='8'>8. Chinking</a>\n",
        "\n",
        "You may find that, after a lot of chunking, you have some words in your chunk you still do not want, but you have no idea how to get rid of them by chunking. You may find that chinking is your solution.\n",
        "\n",
        "Chinking is a lot like chunking, it is basically a way for you to remove a chunk from a chunk. The chunk that you remove from your chunk is your chink.\n",
        "\n",
        "The code is very similar, you just denote the chink, after the chunk, with }{ instead of the chunk's {}"
      ]
    },
    {
      "metadata": {
        "trusted": true,
        "_uuid": "7bcbef154f554dd89aa7096933fb4d97680979d7",
        "id": "7xN_kAInOqjt"
      },
      "cell_type": "code",
      "source": [
        "from nltk.tokenize import PunktSentenceTokenizer\n",
        "\n",
        "# Now, let's create our training and testing data:\n",
        "train_txt=\"Crocodiles (subfamily Crocodylinae) or true crocodiles are large aquatic reptiles that live throughout the tropics in Africa, Asia, the Americas and Australia. Crocodylinae, all of whose members are considered true crocodiles, is classified as a biological subfamily. A broader sense of the term crocodile, Crocodylidae that includes Tomistoma, is not used in this article. The term crocodile here applies to only the species within the subfamily of Crocodylinae. The term is sometimes used even more loosely to include all extant members of the order Crocodilia, which includes the alligators and caimans (family Alligatoridae), the gharial and false gharial (family Gavialidae), and all other living and fossil Crocodylomorpha.\"\n",
        "sample_text =\"Crocodiles are large aquatic reptiles which are carnivorous.Allegators belong to this same reptile species\"\n",
        "\n",
        "# Next, we can train the Punkt tokenizer like:\n",
        "cust_tokenizer = PunktSentenceTokenizer(train_txt)\n",
        "\n",
        "# Then we can actually tokenize, using:\n",
        "\n",
        "tokenized = cust_tokenizer.tokenize(sample_text)\n",
        "\n",
        "print(\"Chinked Output\")\n",
        "def process_text():\n",
        "    try:\n",
        "        for i in tokenized:\n",
        "            words = nltk.word_tokenize(i)\n",
        "            tagged = nltk.pos_tag(words)\n",
        "            chunkGram = r\"\"\"Chunk: {<.*>+}\n",
        "                                    }<VB.?|IN|DT|TO>+{\"\"\"\n",
        "            chunkParser = nltk.RegexpParser(chunkGram)\n",
        "            chunked = chunkParser.parse(tagged)\n",
        "            #chunked.draw()\n",
        "            print(chunked)\n",
        "\n",
        "    except Exception as e:\n",
        "        print(str(e))\n",
        "\n",
        "process_text()"
      ],
      "execution_count": null,
      "outputs": []
    },
    {
      "metadata": {
        "_uuid": "ec61539149184ce912d467c64981e30c615a9cbc",
        "id": "KyycPG6ZOqjt"
      },
      "cell_type": "markdown",
      "source": [
        "#### <a id='9'>9. Named Entity Recognition</a>\n",
        "\n",
        "One of the most major forms of chunking in natural language processing is called \"Named Entity Recognition.\" The idea is to have the machine immediately be able to pull out \"entities\" like people, places, things, locations, monetary figures, and more.\n",
        "\n",
        "This can be a bit of a challenge, but NLTK is this built in for us. There are two major options with NLTK's named entity recognition: either recognize all named entities, or recognize named entities as their respective type, like people, places, locations, etc."
      ]
    },
    {
      "metadata": {
        "trusted": true,
        "_uuid": "4d162df34e1de5034e78b937b93a26e8e95ea932",
        "id": "-DaZuhwvOqjt"
      },
      "cell_type": "code",
      "source": [
        "from nltk.tokenize import PunktSentenceTokenizer\n",
        "\n",
        "# Now, let's create our training and testing data:\n",
        "train_txt=\"Crocodiles (subfamily Crocodylinae) or true crocodiles are large aquatic reptiles that live throughout the tropics in Africa, Asia, the Americas and Australia. Crocodylinae, all of whose members are considered true crocodiles, is classified as a biological subfamily. A broader sense of the term crocodile, Crocodylidae that includes Tomistoma, is not used in this article. The term crocodile here applies to only the species within the subfamily of Crocodylinae. The term is sometimes used even more loosely to include all extant members of the order Crocodilia, which includes the alligators and caimans (family Alligatoridae), the gharial and false gharial (family Gavialidae), and all other living and fossil Crocodylomorpha.\"\n",
        "sample_text =\"Crocodiles are large aquatic reptiles which are carnivorous.Allegators belong to this same reptile species\"\n",
        "\n",
        "# Next, we can train the Punkt tokenizer like:\n",
        "cust_tokenizer = PunktSentenceTokenizer(train_txt)\n",
        "\n",
        "# Then we can actually tokenize, using:\n",
        "\n",
        "tokenized = cust_tokenizer.tokenize(sample_text)\n",
        "\n",
        "print(\"Named Entity Output\")\n",
        "def process_text():\n",
        "    try:\n",
        "        for i in tokenized:\n",
        "            words = nltk.word_tokenize(i)\n",
        "            tagged = nltk.pos_tag(words)\n",
        "            namedEnt = nltk.ne_chunk(tagged,binary = True)\n",
        "            namedEnt.draw()\n",
        "            print(namedEnt)\n",
        "\n",
        "    except Exception as e:\n",
        "        print(str(e))\n",
        "\n",
        "process_text()"
      ],
      "execution_count": null,
      "outputs": []
    },
    {
      "metadata": {
        "_uuid": "97e20cdfa3b6d1af30ebb1e4fbe5b8e68e8d7902",
        "id": "w8fRz7njOqjt"
      },
      "cell_type": "markdown",
      "source": [
        "#### <a id='10'>10. The Corpora</a>\n",
        "\n",
        "The NLTK corpus is a massive dump of all kinds of natural language data sets that are definitely worth taking a look at.\n",
        "\n",
        "Almost all of the files in the NLTK corpus follow the same rules for accessing them by using the NLTK module, but nothing is magical about them. These files are plain text files for the most part, some are XML and some are other formats, but they are all accessible by manual, or via the module and Python. Let's talk about viewing them manually."
      ]
    },
    {
      "metadata": {
        "trusted": true,
        "_uuid": "02dca3ddfdf26e5245b3d2c277f2e643ac55382a",
        "id": "R2gTV1_aOqjt"
      },
      "cell_type": "code",
      "source": [
        "import nltk\n",
        "from nltk.tokenize import sent_tokenize\n",
        "from nltk.corpus import gutenberg\n",
        "sample = gutenberg.raw(\"bible-kjv.txt\")\n",
        "tok = sent_tokenize(sample)\n",
        "print(tok[5:15])"
      ],
      "execution_count": null,
      "outputs": []
    },
    {
      "metadata": {
        "id": "_ooAt-XeOqjt"
      },
      "cell_type": "markdown",
      "source": [
        "# Conclusion <a id=\"99\"></a> <br>\n",
        "\n",
        "## I hope you have a good understanding on general NLP problem and how to use BERT or spaCy or NLTK by now .\n",
        "\n",
        "## Please do leave your comments /suggestions and if you like this notebook please do <font color='red'>UPVOTE"
      ]
    }
  ],
  "metadata": {
    "kernelspec": {
      "language": "python",
      "display_name": "Python 3",
      "name": "python3"
    },
    "language_info": {
      "pygments_lexer": "ipython3",
      "nbconvert_exporter": "python",
      "version": "3.6.4",
      "file_extension": ".py",
      "codemirror_mode": {
        "name": "ipython",
        "version": 3
      },
      "name": "python",
      "mimetype": "text/x-python"
    },
    "colab": {
      "name": "Knowledge Graph & NLP Tutorial-(BERT,spaCy,NLTK)",
      "provenance": [],
      "include_colab_link": true
    }
  },
  "nbformat": 4,
  "nbformat_minor": 0
}